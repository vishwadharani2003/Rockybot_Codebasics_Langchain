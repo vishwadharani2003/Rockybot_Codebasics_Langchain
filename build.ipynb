{
 "cells": [
  {
   "cell_type": "code",
   "execution_count": 2,
   "metadata": {},
   "outputs": [],
   "source": [
    "from langchain.document_loaders import TextLoader"
   ]
  },
  {
   "cell_type": "code",
   "execution_count": 3,
   "metadata": {},
   "outputs": [],
   "source": [
    " loader=TextLoader(\"nvda_news_1.txt\")\n",
    " data=loader.load()"
   ]
  },
  {
   "cell_type": "code",
   "execution_count": 4,
   "metadata": {},
   "outputs": [],
   "source": [
    "from langchain.document_loaders import SeleniumURLLoader"
   ]
  },
  {
   "cell_type": "code",
   "execution_count": 11,
   "metadata": {},
   "outputs": [
    {
     "name": "stdout",
     "output_type": "stream",
     "text": [
      "Requirement already satisfied: unstructured in c:\\users\\vishw\\appdata\\roaming\\python\\python311\\site-packages (0.9.2)\n",
      "Requirement already satisfied: libmagic in c:\\users\\vishw\\appdata\\roaming\\python\\python311\\site-packages (1.0)\n",
      "Requirement already satisfied: python-magic in c:\\users\\vishw\\appdata\\roaming\\python\\python311\\site-packages (0.4.27)\n",
      "Requirement already satisfied: python-magic-bin in c:\\users\\vishw\\appdata\\roaming\\python\\python311\\site-packages (0.4.14)\n",
      "Requirement already satisfied: chardet in c:\\users\\vishw\\appdata\\roaming\\python\\python311\\site-packages (from unstructured) (5.2.0)\n",
      "Requirement already satisfied: filetype in c:\\users\\vishw\\appdata\\roaming\\python\\python311\\site-packages (from unstructured) (1.2.0)\n",
      "Requirement already satisfied: lxml in c:\\users\\vishw\\appdata\\roaming\\python\\python311\\site-packages (from unstructured) (4.9.3)\n",
      "Requirement already satisfied: nltk in c:\\users\\vishw\\appdata\\roaming\\python\\python311\\site-packages (from unstructured) (3.8.1)\n",
      "Requirement already satisfied: tabulate in c:\\users\\vishw\\appdata\\roaming\\python\\python311\\site-packages (from unstructured) (0.9.0)\n",
      "Requirement already satisfied: requests in c:\\users\\vishw\\appdata\\roaming\\python\\python311\\site-packages (from unstructured) (2.31.0)\n",
      "Requirement already satisfied: click in c:\\users\\vishw\\appdata\\roaming\\python\\python311\\site-packages (from nltk->unstructured) (8.1.7)\n",
      "Requirement already satisfied: joblib in c:\\users\\vishw\\appdata\\roaming\\python\\python311\\site-packages (from nltk->unstructured) (1.3.2)\n",
      "Requirement already satisfied: regex>=2021.8.3 in c:\\users\\vishw\\appdata\\roaming\\python\\python311\\site-packages (from nltk->unstructured) (2023.10.3)\n",
      "Requirement already satisfied: tqdm in c:\\users\\vishw\\appdata\\roaming\\python\\python311\\site-packages (from nltk->unstructured) (4.66.1)\n",
      "Requirement already satisfied: charset-normalizer<4,>=2 in c:\\users\\vishw\\appdata\\roaming\\python\\python311\\site-packages (from requests->unstructured) (3.3.1)\n",
      "Requirement already satisfied: idna<4,>=2.5 in c:\\users\\vishw\\appdata\\roaming\\python\\python311\\site-packages (from requests->unstructured) (3.4)\n",
      "Requirement already satisfied: urllib3<3,>=1.21.1 in c:\\users\\vishw\\appdata\\roaming\\python\\python311\\site-packages (from requests->unstructured) (2.0.7)\n",
      "Requirement already satisfied: certifi>=2017.4.17 in c:\\users\\vishw\\appdata\\roaming\\python\\python311\\site-packages (from requests->unstructured) (2023.7.22)\n",
      "Requirement already satisfied: colorama in c:\\users\\vishw\\appdata\\roaming\\python\\python311\\site-packages (from click->nltk->unstructured) (0.4.6)\n"
     ]
    }
   ],
   "source": [
    "!pip3 install unstructured libmagic python-magic python-magic-bin\n"
   ]
  },
  {
   "cell_type": "code",
   "execution_count": 25,
   "metadata": {},
   "outputs": [],
   "source": [
    "url\"https://www.moneycontrol.com/news/business/markets/wall-street-rises-as-tesla-soars-on-ai-optimism-11351111.html\""
   ]
  },
  {
   "cell_type": "code",
   "execution_count": 26,
   "metadata": {},
   "outputs": [
    {
     "name": "stderr",
     "output_type": "stream",
     "text": [
      "libmagic is unavailable but assists in filetype detection on file-like objects. Please consider installing libmagic for better results.\n",
      "Error fetching or processing https://www.moneycontrol.com/news/business/markets/wall-street-rises-as-tesla-soars-on-ai-optimism-11351111.html, exception: Invalid file. The FileType.UNK file type is not supported in partition.\n"
     ]
    },
    {
     "data": {
      "text/plain": [
       "0"
      ]
     },
     "execution_count": 26,
     "metadata": {},
     "output_type": "execute_result"
    }
   ],
   "source": []
  },
  {
   "cell_type": "code",
   "execution_count": 9,
   "metadata": {},
   "outputs": [
    {
     "name": "stdout",
     "output_type": "stream",
     "text": [
      "Collecting selenium\n",
      "  Downloading selenium-4.14.0-py3-none-any.whl.metadata (6.9 kB)\n",
      "Requirement already satisfied: urllib3<3,>=1.26 in c:\\users\\vishw\\appdata\\roaming\\python\\python311\\site-packages (from urllib3[socks]<3,>=1.26->selenium) (2.0.7)\n",
      "Collecting trio~=0.17 (from selenium)\n",
      "  Downloading trio-0.22.2-py3-none-any.whl.metadata (4.7 kB)\n",
      "Collecting trio-websocket~=0.9 (from selenium)\n",
      "  Downloading trio_websocket-0.11.1-py3-none-any.whl.metadata (4.7 kB)\n",
      "Requirement already satisfied: certifi>=2021.10.8 in c:\\users\\vishw\\appdata\\roaming\\python\\python311\\site-packages (from selenium) (2023.7.22)\n",
      "Requirement already satisfied: attrs>=20.1.0 in c:\\users\\vishw\\appdata\\roaming\\python\\python311\\site-packages (from trio~=0.17->selenium) (23.1.0)\n",
      "Requirement already satisfied: sortedcontainers in c:\\users\\vishw\\anaconda3\\lib\\site-packages (from trio~=0.17->selenium) (2.4.0)\n",
      "Requirement already satisfied: idna in c:\\users\\vishw\\appdata\\roaming\\python\\python311\\site-packages (from trio~=0.17->selenium) (3.4)\n",
      "Collecting outcome (from trio~=0.17->selenium)\n",
      "  Downloading outcome-1.3.0.post0-py2.py3-none-any.whl.metadata (2.6 kB)\n",
      "Requirement already satisfied: sniffio in c:\\users\\vishw\\appdata\\roaming\\python\\python311\\site-packages (from trio~=0.17->selenium) (1.3.0)\n",
      "Requirement already satisfied: cffi>=1.14 in c:\\users\\vishw\\anaconda3\\lib\\site-packages (from trio~=0.17->selenium) (1.15.1)\n",
      "Collecting wsproto>=0.14 (from trio-websocket~=0.9->selenium)\n",
      "  Downloading wsproto-1.2.0-py3-none-any.whl (24 kB)\n",
      "Requirement already satisfied: pysocks!=1.5.7,<2.0,>=1.5.6 in c:\\users\\vishw\\anaconda3\\lib\\site-packages (from urllib3[socks]<3,>=1.26->selenium) (1.7.1)\n",
      "Requirement already satisfied: pycparser in c:\\users\\vishw\\anaconda3\\lib\\site-packages (from cffi>=1.14->trio~=0.17->selenium) (2.21)\n",
      "Collecting h11<1,>=0.9.0 (from wsproto>=0.14->trio-websocket~=0.9->selenium)\n",
      "  Downloading h11-0.14.0-py3-none-any.whl (58 kB)\n",
      "     ---------------------------------------- 0.0/58.3 kB ? eta -:--:--\n",
      "     ---------------------------------------- 58.3/58.3 kB 3.2 MB/s eta 0:00:00\n",
      "Downloading selenium-4.14.0-py3-none-any.whl (9.9 MB)\n",
      "   ---------------------------------------- 0.0/9.9 MB ? eta -:--:--\n",
      "   - -------------------------------------- 0.5/9.9 MB 10.0 MB/s eta 0:00:01\n",
      "   -- ------------------------------------- 0.7/9.9 MB 10.6 MB/s eta 0:00:01\n",
      "   ----- ---------------------------------- 1.5/9.9 MB 10.3 MB/s eta 0:00:01\n",
      "   --------- ------------------------------ 2.3/9.9 MB 13.2 MB/s eta 0:00:01\n",
      "   ----------- ---------------------------- 2.9/9.9 MB 13.1 MB/s eta 0:00:01\n",
      "   -------------- ------------------------- 3.6/9.9 MB 13.5 MB/s eta 0:00:01\n",
      "   ----------------- ---------------------- 4.3/9.9 MB 13.8 MB/s eta 0:00:01\n",
      "   ------------------- -------------------- 4.8/9.9 MB 13.8 MB/s eta 0:00:01\n",
      "   ---------------------- ----------------- 5.7/9.9 MB 13.9 MB/s eta 0:00:01\n",
      "   ------------------------- -------------- 6.3/9.9 MB 13.9 MB/s eta 0:00:01\n",
      "   ---------------------------- ----------- 7.0/9.9 MB 14.0 MB/s eta 0:00:01\n",
      "   ------------------------------ --------- 7.6/9.9 MB 13.9 MB/s eta 0:00:01\n",
      "   --------------------------------- ------ 8.3/9.9 MB 14.0 MB/s eta 0:00:01\n",
      "   ---------------------------------- ----- 8.6/9.9 MB 13.7 MB/s eta 0:00:01\n",
      "   ----------------------------------- ---- 8.9/9.9 MB 12.9 MB/s eta 0:00:01\n",
      "   ------------------------------------- -- 9.3/9.9 MB 12.6 MB/s eta 0:00:01\n",
      "   ---------------------------------------  9.8/9.9 MB 12.5 MB/s eta 0:00:01\n",
      "   ---------------------------------------- 9.9/9.9 MB 12.2 MB/s eta 0:00:00\n",
      "Downloading trio-0.22.2-py3-none-any.whl (400 kB)\n",
      "   ---------------------------------------- 0.0/400.2 kB ? eta -:--:--\n",
      "   --------------------------------------- 400.2/400.2 kB 12.6 MB/s eta 0:00:00\n",
      "Downloading trio_websocket-0.11.1-py3-none-any.whl (17 kB)\n",
      "Downloading outcome-1.3.0.post0-py2.py3-none-any.whl (10 kB)\n",
      "Installing collected packages: outcome, h11, wsproto, trio, trio-websocket, selenium\n",
      "Successfully installed h11-0.14.0 outcome-1.3.0.post0 selenium-4.14.0 trio-0.22.2 trio-websocket-0.11.1 wsproto-1.2.0\n",
      "Note: you may need to restart the kernel to use updated packages.\n"
     ]
    }
   ],
   "source": [
    "pip install selenium"
   ]
  },
  {
   "cell_type": "code",
   "execution_count": 10,
   "metadata": {},
   "outputs": [],
   "source": [
    "from langchain.document_loaders import SeleniumURLLoader\n",
    "\n",
    "urls = [\"https://www.moneycontrol.com/news/business/tata-motors-mahindra-gain-certificates-for-production-linked-payouts-11281691.html\",\"https://www.moneycontrol.com/news/business/tata-motors-launches-punch-icng-price-starts-at-rs-7-1-lakh-11098751.html\"]\n",
    "loader = SeleniumURLLoader(urls=urls)"
   ]
  },
  {
   "cell_type": "code",
   "execution_count": 11,
   "metadata": {},
   "outputs": [
    {
     "name": "stderr",
     "output_type": "stream",
     "text": [
      "[nltk_data] Downloading package punkt to\n",
      "[nltk_data]     C:\\Users\\vishw\\AppData\\Roaming\\nltk_data...\n",
      "[nltk_data]   Unzipping tokenizers\\punkt.zip.\n",
      "[nltk_data] Downloading package averaged_perceptron_tagger to\n",
      "[nltk_data]     C:\\Users\\vishw\\AppData\\Roaming\\nltk_data...\n",
      "[nltk_data]   Unzipping taggers\\averaged_perceptron_tagger.zip.\n"
     ]
    },
    {
     "data": {
      "text/plain": [
       "2"
      ]
     },
     "execution_count": 11,
     "metadata": {},
     "output_type": "execute_result"
    }
   ],
   "source": [
    "data=loader.load()\n",
    "len(data)"
   ]
  },
  {
   "cell_type": "code",
   "execution_count": 12,
   "metadata": {},
   "outputs": [
    {
     "data": {
      "text/plain": [
       "Document(page_content='English\\n\\nHindi\\n\\nGujarati\\n\\nSpecials\\n\\nTrending Stocks\\n\\nSuzlon Energy\\xa0INE040H01021, SUZLON, 532667\\n\\nReliance\\xa0INE002A01018, RELIANCE, 500325\\n\\nJio Financial\\xa0INE758E01017, JIOFIN, 543940\\n\\nIDFC First Bank\\xa0INE092T01019, IDFCFIRSTB, 539437\\n\\nTata Power\\xa0INE245A01021, TATAPOWER, 500400\\n\\nCheck your Credit Score here!\\n\\nQuotes\\n\\nMutual Funds\\n\\nCommodities\\n\\nFutures & Options\\n\\nCurrency\\n\\nNews\\n\\nCryptocurrency\\n\\nForum\\n\\nNotices\\n\\nVideos\\n\\nGlossary\\n\\nAll\\n\\nHello, LoginLog-inor Sign-UpMy AccountMy Profile My PortfolioMy WatchlistMy Credit ScoreMy FeedMy MessagesMy AlertsChat with UsDownload AppFollow us on::root{--avp-brand-color:#ed1e1e;--avp-color:#fff;--avp-background-color:transparent;--avp-edge-row-indent:0px;--avp-edge-column-indent:var(--avp-edge-row-indent);--avp-scale:0.5;--avp-offset-top:0px;--avp-offset-right:0px;--avp-offset-bottom:0px;--avp-offset-left:0px;--avp-transition-duration:0.2s;--avp-transition:opacity var(--avp-transition-duration),transform var(--avp-transition-duration),rotate var(--avp-transition-duration),translate var(--avp-transition-duration),scale var(--avp-transition-duration);--avp-transition-scale-value:1.5;--avp-transition-move-value:100%;--avp-main-width:auto;--avp-main-height:auto;--avp-view-width:480px;--avp-view-height:100%;--avp-view-aspect-ratio:16/9;--avp-primary-control-size:42px;--avp-primary-control-padding:8px;--avp-primary-control-transition-bend:-0.15;--avp-primary-control-transform-origin-bend:2;--avp-primary-middle-control-size:48px;--avp-primary-middle-control-padding:4px;--avp-secondary-control-size:24px;--avp-secondary-control-padding:4px;--avp-secondary-control-background-color:transparent;--avp-secondary-control-border-radius:0;--avp-volume-slider-block-size:3px;--avp-volume-slider-inline-size:57px;--avp-volume-slider-volume:1;--avp-volume-thumb-diameter:10px;--avp-timeline-block-size:6px;--avp-timeline-minimize-scale-factor:0.6667;--avp-timeline-clickable-area-gap:12px;--avp-timeline-chapter-gap:2px;--avp-timeline-chapter-gap-in-fullscreen:3px;--avp-timeline-pointer-scale-factor:2.167;--avp-timeline-pointer-size:calc(var(--avp-timeline-block-size)*var(--avp-timeline-pointer-scale-factor));--avp-close-button-overlay-margin:30px;--avp-close-button-overlay-top:0px;--avp-close-button-overlay-right:1px;--avp-close-button-overlay-bottom:6px;--avp-close-button-overlay-left:0px;--avp-logo-inline-offset:var(--avp-secondary-control-padding);--avp-logo-block-offset:var(--avp-logo-inline-offset);--avp-logo-image-width:16px;--avp-logo-image-height:var(--avp-logo-image-width);--avp-logo-image-aspect-ratio:1;--avp-logo-title-offset:4px;--avp-auto-skip-track-size:5px;--avp-auto-skip-progress-color:var(--avp-brand-color);--avp-caption-height:24px;--avp-caption-padding:5px;--avp-carousel-inline-size:100%;--avp-carousel-view-inline-size:100%;--avp-carousel-view-block-size:100%;--avp-carousel-items-per-page:4;--avp-carousel-item-inline-size:25%;--avp-carousel-item-block-size:100%;--avp-carousel-item-border-radius:4px;--avp-carousel-item-gap:5px;--avp-carousel-prev-next-control-inline-size:44px;--avp-carousel-item-placeholder-image-background:#d0d0d0;--avp-playlist-background-color:transparent;--avp-annotation-background-color:hsla(0,0%,100%,.85);--avp-annotation-color:#000;--avp-annotation-font-size:16px;--avp-annotation-text-align:left;--avp-aside-background-color:var(--avp-background-color);--avp-aside-color:var(--avp-color);--avp-aside-font-size:16px;--avp-aside-font-family:inherit;--avp-aside-text-align:left;--avp-top-height:calc(var(--avp-secondary-control-size) + var(--avp-edge-row-indent)*2);--avp-bottom-height:var(--avp-top-height);--avp-control-panel-block-size:calc(var(--avp-secondary-control-size) + var(--avp-timeline-block-size));--avp-left-width:32%;--avp-view-background:rgba(0,0,0,.3);--avp-source-background:#000;--avp-overlay-background:rgba(0,0,0,.55);--avp-read-more-button-border-radius:4px;--avp-read-more-button-background-color:var(--avp-brand-color);--avp-read-more-button-text-color:var(--avp-color)}#aniplayer_AV64e5bbb8f7555fbb940d8065-1698643567004:not(#\\\\#) [avp]{background:none;border:none;border-radius:0;box-shadow:none;box-sizing:border-box;color:inherit;cursor:inherit;flex-direction:row;font:inherit;height:auto;letter-spacing:inherit;line-height:1;margin:0;max-width:none;min-width:0;outline:none;overflow:visible;padding:0;pointer-events:inherit;position:static;text-align:inherit;-webkit-text-decoration:none;text-decoration:none;-webkit-transform:none;transform:none;transition:none;vertical-align:initial;white-space:inherit;width:auto;word-break:inherit}#aniplayer_AV64e5bbb8f7555fbb940d8065-1698643567004:not(#\\\\#) [avp],#aniplayer_AV64e5bbb8f7555fbb940d8065-1698643567004:not(#\\\\#) aside[avp],#aniplayer_AV64e5bbb8f7555fbb940d8065-1698643567004:not(#\\\\#) div[avp],#aniplayer_AV64e5bbb8f7555fbb940d8065-1698643567004:not(#\\\\#) p[avp],#aniplayer_AV64e5bbb8f7555fbb940d8065-1698643567004:not(#\\\\#) section[avp]{display:block}#aniplayer_AV64e5bbb8f7555fbb940d8065-1698643567004:not(#\\\\#) span[avp]{display:inline}#aniplayer_AV64e5bbb8f7555fbb940d8065-1698643567004:not(#\\\\#) a[avp],#aniplayer_AV64e5bbb8f7555fbb940d8065-1698643567004:not(#\\\\#) button[avp]{background:none;border:none;padding:0}#aniplayer_AV64e5bbb8f7555fbb940d8065-1698643567004:not(#\\\\#) a[href][avp],#aniplayer_AV64e5bbb8f7555fbb940d8065-1698643567004:not(#\\\\#) button[avp]{cursor:pointer}#aniplayer_AV64e5bbb8f7555fbb940d8065-1698643567004:not(#\\\\#) canvas[avp],#aniplayer_AV64e5bbb8f7555fbb940d8065-1698643567004:not(#\\\\#) img[avp],#aniplayer_AV64e5bbb8f7555fbb940d8065-1698643567004:not(#\\\\#) video[avp]{overflow:hidden}#aniplayer_AV64e5bbb8f7555fbb940d8065-1698643567004:not(#\\\\#) img[avp]{vertical-align:top}#aniplayer_AV64e5bbb8f7555fbb940d8065-1698643567004:not(#\\\\#) strong[avp]{font-weight:600}#aniplayer_AV64e5bbb8f7555fbb940d8065-1698643567004:not(#\\\\#) [inert][avp]{pointer-events:none}#aniplayer_AV64e5bbb8f7555fbb940d8065-1698643567004:not(#\\\\#) [hidden][avp]{display:none}#aniplayer_AV64e5bbb8f7555fbb940d8065-1698643567004:not(#\\\\#) avp-icon[avp]{fill:#fff;stroke:#fff;transform-box:fill-box}#aniplayer_AV64e5bbb8f7555fbb940d8065-1698643567004:not(#\\\\#) avp-icon svg[avp]{display:block;height:100%;overflow:hidden;width:100%}#aniplayer_AV64e5bbb8f7555fbb940d8065-1698643567004:not(#\\\\#) .avp-button[avp]{background-color:initial;background-color:var(--avp-secondary-control-background-color);border-radius:0;border-radius:var(--avp-secondary-control-border-radius);color:#fff;color:var(--avp-color);cursor:pointer;flex-shrink:0;height:24px;height:var(--avp-secondary-control-size);padding:4px;padding:var(--avp-secondary-control-padding);pointer-events:auto;width:24px;width:var(--avp-secondary-control-size)}#aniplayer_AV64e5bbb8f7555fbb940d8065-1698643567004:not(#\\\\#) .avp-button avp-icon[avp]{fill:currentColor;stroke:currentColor}#aniplayer_AV64e5bbb8f7555fbb940d8065-1698643567004:not(#\\\\#) .avp-button.avp-primary[avp]{height:42px;height:var(--avp-primary-control-size);padding:8px;padding:var(--avp-primary-control-padding);width:42px;width:var(--avp-primary-control-size)}#aniplayer_AV64e5bbb8f7555fbb940d8065-1698643567004:not(#\\\\#) .avp-transition-active[avp]{transition:opacity .2s,rotate .2s,translate .2s,scale .2s,-webkit-transform .2s;transition:opacity .2s,transform .2s,rotate .2s,translate .2s,scale .2s;transition:opacity .2s,transform .2s,rotate .2s,translate .2s,scale .2s,-webkit-transform .2s;transition:var(--avp-transition)}#aniplayer_AV64e5bbb8f7555fbb940d8065-1698643567004:not(#\\\\#) .avp-fade-enter-from[avp],#aniplayer_AV64e5bbb8f7555fbb940d8065-1698643567004:not(#\\\\#) .avp-fade-leave-done[avp],#aniplayer_AV64e5bbb8f7555fbb940d8065-1698643567004:not(#\\\\#) .avp-fade-leave-to[avp]{opacity:0}#aniplayer_AV64e5bbb8f7555fbb940d8065-1698643567004:not(#\\\\#) .avp-scale-enter-from[avp],#aniplayer_AV64e5bbb8f7555fbb940d8065-1698643567004:not(#\\\\#) .avp-scale-leave-done[avp],#aniplayer_AV64e5bbb8f7555fbb940d8065-1698643567004:not(#\\\\#) .avp-scale-leave-to[avp]{opacity:0;scale:1.5;scale:var(--avp-transition-scale-value)}#aniplayer_AV64e5bbb8f7555fbb940d8065-1698643567004:not(#\\\\#) .avp-scale-down-enter-from[avp],#aniplayer_AV64e5bbb8f7555fbb940d8065-1698643567004:not(#\\\\#) .avp-scale-down-leave-done[avp],#aniplayer_AV64e5bbb8f7555fbb940d8065-1698643567004:not(#\\\\#) .avp-scale-down-leave-to[avp]{opacity:0;scale:.5}#aniplayer_AV64e5bbb8f7555fbb940d8065-1698643567004:not(#\\\\#) .avp-move-left-enter-from[avp],#aniplayer_AV64e5bbb8f7555fbb940d8065-1698643567004:not(#\\\\#) .avp-move-left-leave-done[avp],#aniplayer_AV64e5bbb8f7555fbb940d8065-1698643567004:not(#\\\\#) .avp-move-left-leave-to[avp]{opacity:0;translate:100%;translate:var(--avp-transition-move-value)}#aniplayer_AV64e5bbb8f7555fbb940d8065-1698643567004:not(#\\\\#) .avp-move-right-enter-from[avp],#aniplayer_AV64e5bbb8f7555fbb940d8065-1698643567004:not(#\\\\#) .avp-move-right-leave-done[avp],#aniplayer_AV64e5bbb8f7555fbb940d8065-1698643567004:not(#\\\\#) .avp-move-right-leave-to[avp]{opacity:0;translate:-100%;translate:calc(var(--avp-transition-move-value)*-1)}#aniplayer_AV64e5bbb8f7555fbb940d8065-1698643567004:not(#\\\\#) .avp-move-up-enter-from[avp],#aniplayer_AV64e5bbb8f7555fbb940d8065-1698643567004:not(#\\\\#) .avp-move-up-leave-done[avp],#aniplayer_AV64e5bbb8f7555fbb940d8065-1698643567004:not(#\\\\#) .avp-move-up-leave-to[avp]{opacity:0;translate:0 100%;translate:0 var(--avp-transition-move-value)}#aniplayer_AV64e5bbb8f7555fbb940d8065-1698643567004:not(#\\\\#) .avp-move-down-enter-from[avp],#aniplayer_AV64e5bbb8f7555fbb940d8065-1698643567004:not(#\\\\#) .avp-move-down-leave-done[avp],#aniplayer_AV64e5bbb8f7555fbb940d8065-1698643567004:not(#\\\\#) .avp-move-down-leave-to[avp]{opacity:0;translate:0 -100%;translate:0 calc(var(--avp-transition-move-value)*-1)}#aniplayer_AV64e5bbb8f7555fbb940d8065-1698643567004:not(#\\\\#) .avp-cross-placement-container[avp]{display:grid;grid-template:minmax(0,1fr) /minmax(0,1fr)}#aniplayer_AV64e5bbb8f7555fbb940d8065-1698643567004:not(#\\\\#) .avp-cross-placement-container>[avp]{grid-area:1/1}#aniplayer_AV64e5bbb8f7555fbb940d8065-1698643567004:not(#\\\\#) .avp-no-scrollbars[avp]::-webkit-scrollbar{height:0;width:0}#aniplayer_AV64e5bbb8f7555fbb940d8065-1698643567004:not(#\\\\#) .avp-no-scrollbars[avp]{-ms-overflow-style:none;overflow:-moz-scrollbars-none;scrollbar-width:none}#aniplayer_AV64e5bbb8f7555fbb940d8065-1698643567004:not(#\\\\#) .avp-no-scrollbars[avp]::-webkit-scrollbar{display:none}#aniplayer_AV64e5bbb8f7555fbb940d8065-1698643567004:not(#\\\\#) .avp-reflect[avp]{-webkit-transform:scaleX(-1);transform:scaleX(-1);-webkit-transform-origin:center;transform-origin:center}#aniplayer_AV64e5bbb8f7555fbb940d8065-1698643567004:not(#\\\\#) [_382ee1ca-h]{--avp-control-panel-block-size:calc(var(--avp-secondary-control-size) + var(--avp-timeline-block-size));--avp-read-more-button-background-color:var(--avp-brand-color);-webkit-tap-highlight-color:transparent;-webkit-overflow-scrolling:touch;-webkit-text-size-adjust:none;-moz-text-size-adjust:none;text-size-adjust:none;-webkit-font-smoothing:antialiased;-moz-osx-font-smoothing:grayscale;align-items:center;color:#fff;color:var(--avp-color);direction:ltr;display:flex;flex-direction:column;font-family:Gilroy,ui-sans-serif,system-ui,-apple-system,Segoe UI,Roboto,Ubuntu,Cantarell,Noto Sans,sans-serif,BlinkMacSystemFont,Helvetica Neue,Arial;font-size:16px;font-weight:400;letter-spacing:normal;overflow-anchor:none;scroll-behavior:smooth;tab-size:4;text-align:left;width:100%;word-break:normal}#aniplayer_AV64e5bbb8f7555fbb940d8065-1698643567004:not(#\\\\#) [_382ee1ca-h] ::cue{background:rgba(0,0,0,.4);color:#fff;font:inherit}#aniplayer_AV64e5bbb8f7555fbb940d8065-1698643567004:not(#\\\\#) [_382ee1ca-h] #videoslot.avp-loaded{-webkit-animation:none;animation:none}#aniplayer_AV64e5bbb8f7555fbb940d8065-1698643567004:not(#\\\\#) [w~=x4s][_382ee1ca-h]{--avp-secondary-control-size:32px;--avp-secondary-control-padding:7px}#aniplayer_AV64e5bbb8f7555fbb940d8065-1698643567004:not(#\\\\#) [w~=x3s][_382ee1ca-h]{--avp-primary-middle-control-padding:3px;--avp-secondary-control-size:36px;--avp-secondary-control-padding:9px}#aniplayer_AV64e5bbb8f7555fbb940d8065-1698643567004:not(#\\\\#) [w~=xxs][_382ee1ca-h]{--avp-primary-control-padding:6px;--avp-primary-control-size:48px;--avp-primary-middle-control-size:84px;--avp-primary-middle-control-padding:12px;--avp-secondary-control-size:42px;--avp-secondary-control-padding:11px}#aniplayer_AV64e5bbb8f7555fbb940d8065-1698643567004:not(#\\\\#) [w~=xs][_382ee1ca-h]{--avp-primary-control-size:72px;--avp-primary-control-padding:18px}#aniplayer_AV64e5bbb8f7555fbb940d8065-1698643567004:not(#\\\\#) .avp-fullscreen[_382ee1ca-h]{--avp-timeline-chapter-gap:3px;--avp-timeline-block-size:8px;--avp-timeline-minimize-scale-factor:0.625;--avp-timeline-pointer-scale-factor:2.5;--avp-timeline-pointer-size:calc(var(--avp-timeline-block-size)*var(--avp-timeline-pointer-scale-factor))}#aniplayer_AV64e5bbb8f7555fbb940d8065-1698643567004:not(#\\\\#) .avp-fullscreen[w~=xs][_382ee1ca-h]{--avp-primary-control-size:78px;--avp-primary-middle-control-size:96px}#aniplayer_AV64e5bbb8f7555fbb940d8065-1698643567004:not(#\\\\#) .avp-fullscreen[w~=m][_382ee1ca-h],#aniplayer_AV64e5bbb8f7555fbb940d8065-1698643567004:not(#\\\\#) [w~=l][_382ee1ca-h]{--avp-primary-control-size:84px;--avp-primary-middle-control-size:108px;--avp-secondary-control-size:54px;--avp-secondary-control-padding:14px;--avp-carousel-prev-next-control-inline-size:72px;--avp-volume-slider-block-size:4px;--avp-volume-slider-inline-size:78px;--avp-volume-thumb-diameter:16px}#aniplayer_AV64e5bbb8f7555fbb940d8065-1698643567004:not(#\\\\#) .avp-fullscreen[w~=l][_382ee1ca-h],#aniplayer_AV64e5bbb8f7555fbb940d8065-1698643567004:not(#\\\\#) [w~=xl][_382ee1ca-h]{--avp-gcarousel-prev-next-control-inline-size:84px}#aniplayer_AV64e5bbb8f7555fbb940d8065-1698643567004:not(#\\\\#) .avp-concealed[_382ee1ca-h]{height:0;opacity:0;pointer-events:none}#aniplayer_AV64e5bbb8f7555fbb940d8065-1698643567004:not(#\\\\#) .avp-dragging[_382ee1ca-h] .avp-view[_382ee1ca]{pointer-events:none}#aniplayer_AV64e5bbb8f7555fbb940d8065-1698643567004:not(#\\\\#) .avp-floating-container[_382ee1ca]{background-color:initial;background-color:var(--avp-background-color)}#aniplayer_AV64e5bbb8f7555fbb940d8065-1698643567004:not(#\\\\#) .avp-shadow[_382ee1ca]{box-shadow:1px 1px 6px 3px rgba(0,0,0,.4)}#aniplayer_AV64e5bbb8f7555fbb940d8065-1698643567004:not(#\\\\#) .avp-scale[_382ee1ca]{scale:.5;scale:var(--avp-scale)}#aniplayer_AV64e5bbb8f7555fbb940d8065-1698643567004:not(#\\\\#) .avp-fixed[_382ee1ca]{position:fixed;z-index:10000001}#aniplayer_AV64e5bbb8f7555fbb940d8065-1698643567004:not(#\\\\#) .avp-fixed.avp-bottom-center[_382ee1ca],#aniplayer_AV64e5bbb8f7555fbb940d8065-1698643567004:not(#\\\\#) .avp-fixed.avp-bottom[_382ee1ca],#aniplayer_AV64e5bbb8f7555fbb940d8065-1698643567004:not(#\\\\#) .avp-fixed.avp-top-center[_382ee1ca],#aniplayer_AV64e5bbb8f7555fbb940d8065-1698643567004:not(#\\\\#) .avp-fixed.avp-top[_382ee1ca]{--avp-background-color:#000;left:0;left:var(--avp-offset-left);width:100%;width:calc(100% - var(--avp-offset-left) - var(--avp-offset-right))}#aniplayer_AV64e5bbb8f7555fbb940d8065-1698643567004:not(#\\\\#) .avp-fixed.avp-top-center[_382ee1ca],#aniplayer_AV64e5bbb8f7555fbb940d8065-1698643567004:not(#\\\\#) .avp-fixed.avp-top-left[_382ee1ca],#aniplayer_AV64e5bbb8f7555fbb940d8065-1698643567004:not(#\\\\#) .avp-fixed.avp-top-right[_382ee1ca],#aniplayer_AV64e5bbb8f7555fbb940d8065-1698643567004:not(#\\\\#) .avp-fixed.avp-top[_382ee1ca]{top:0;top:var(--avp-offset-top)}#aniplayer_AV64e5bbb8f7555fbb940d8065-1698643567004:not(#\\\\#) .avp-fixed.avp-bottom-center[_382ee1ca],#aniplayer_AV64e5bbb8f7555fbb940d8065-1698643567004:not(#\\\\#) .avp-fixed.avp-bottom-left[_382ee1ca],#aniplayer_AV64e5bbb8f7555fbb940d8065-1698643567004:not(#\\\\#) .avp-fixed.avp-bottom-right[_382ee1ca],#aniplayer_AV64e5bbb8f7555fbb940d8065-1698643567004:not(#\\\\#) .avp-fixed.avp-bottom[_382ee1ca]{bottom:0;bottom:var(--avp-offset-bottom)}#aniplayer_AV64e5bbb8f7555fbb940d8065-1698643567004:not(#\\\\#) .avp-fixed.avp-bottom-right[_382ee1ca],#aniplayer_AV64e5bbb8f7555fbb940d8065-1698643567004:not(#\\\\#) .avp-fixed.avp-top-right[_382ee1ca]{right:0;right:var(--avp-offset-right)}#aniplayer_AV64e5bbb8f7555fbb940d8065-1698643567004:not(#\\\\#) .avp-fixed.avp-bottom-left[_382ee1ca],#aniplayer_AV64e5bbb8f7555fbb940d8065-1698643567004:not(#\\\\#) .avp-fixed.avp-top-left[_382ee1ca]{left:0;left:var(--avp-offset-left)}#aniplayer_AV64e5bbb8f7555fbb940d8065-1698643567004:not(#\\\\#) .avp-fixed.avp-top-center[_382ee1ca],#aniplayer_AV64e5bbb8f7555fbb940d8065-1698643567004:not(#\\\\#) .avp-fixed.avp-top[_382ee1ca]{-webkit-transform-origin:top;transform-origin:top}#aniplayer_AV64e5bbb8f7555fbb940d8065-1698643567004:not(#\\\\#) .avp-fixed.avp-top-left[_382ee1ca]{-webkit-transform-origin:top left;transform-origin:top left}#aniplayer_AV64e5bbb8f7555fbb940d8065-1698643567004:not(#\\\\#) .avp-fixed.avp-top-right[_382ee1ca]{-webkit-transform-origin:top right;transform-origin:top right}#aniplayer_AV64e5bbb8f7555fbb940d8065-1698643567004:not(#\\\\#) .avp-fixed.avp-bottom-center[_382ee1ca],#aniplayer_AV64e5bbb8f7555fbb940d8065-1698643567004:not(#\\\\#) .avp-fixed.avp-bottom[_382ee1ca]{-webkit-transform-origin:bottom;transform-origin:bottom}#aniplayer_AV64e5bbb8f7555fbb940d8065-1698643567004:not(#\\\\#) .avp-fixed.avp-bottom-left[_382ee1ca]{-webkit-transform-origin:bottom left;transform-origin:bottom left}#aniplayer_AV64e5bbb8f7555fbb940d8065-1698643567004:not(#\\\\#) .avp-fixed.avp-bottom-right[_382ee1ca]{-webkit-transform-origin:bottom right;transform-origin:bottom right}#aniplayer_AV64e5bbb8f7555fbb940d8065-1698643567004:not(#\\\\#) .avp-body[_382ee1ca]{display:flex;justify-content:center}#aniplayer_AV64e5bbb8f7555fbb940d8065-1698643567004:not(#\\\\#) .avp-content[_382ee1ca]{display:flex;flex-direction:column;flex-shrink:0}#aniplayer_AV64e5bbb8f7555fbb940d8065-1698643567004:not(#\\\\#) .avp-vertical[_382ee1ca-h] .avp-content[_382ee1ca]{flex-direction:row}#aniplayer_AV64e5bbb8f7555fbb940d8065-1698643567004:not(#\\\\#) .avp-source[_382ee1ca]{background:#000;background:var(--avp-source-background);position:relative;z-index:0}#aniplayer_AV64e5bbb8f7555fbb940d8065-1698643567004:not(#\\\\#) .avp-fullscreen[_382ee1ca-h] .avp-source[_382ee1ca]{bottom:0!important;box-sizing:border-box!important;height:100%!important;left:0!important;margin:0!important;max-height:none!important;max-width:none!important;min-height:0!important;min-width:0!important;object-fit:contain;position:fixed!important;right:0!important;top:0!important;-webkit-transform:none!important;transform:none!important;-webkit-user-select:text;user-select:text;width:100%!important}#aniplayer_AV64e5bbb8f7555fbb940d8065-1698643567004:not(#\\\\#) .avp-source.avp-clickable[_382ee1ca]{cursor:pointer}#aniplayer_AV64e5bbb8f7555fbb940d8065-1698643567004:not(#\\\\#) [_1a962853-h] svg{height:0;overflow:hidden;position:absolute;width:0}#aniplayer_AV64e5bbb8f7555fbb940d8065-1698643567004:not(#\\\\#) [_382ee1c7-h]{--avp-top-height:calc(var(--avp-secondary-control-size) + var(--avp-edge-column-indent)*2);--avp-bottom-height:var(--avp-top-height);display:flex;height:100%;left:0;overflow:hidden;pointer-events:none;position:absolute;top:0;transition:background .2s;transition:background var(--avp-transition-duration);width:100%}#aniplayer_AV64e5bbb8f7555fbb940d8065-1698643567004:not(#\\\\#) [w~=xs] [_382ee1c7-h]{--avp-edge-row-indent:5px;--avp-edge-column-indent:var(--avp-edge-row-indent)}#aniplayer_AV64e5bbb8f7555fbb940d8065-1698643567004:not(#\\\\#) [w~=s] [_382ee1c7-h]{--avp-edge-row-indent:10px}#aniplayer_AV64e5bbb8f7555fbb940d8065-1698643567004:not(#\\\\#) .avp-ui-background[_382ee1c7-h]{background:rgba(0,0,0,.3);background:var(--avp-view-background)}#aniplayer_AV64e5bbb8f7555fbb940d8065-1698643567004:not(#\\\\#) .avp-hidden[_382ee1c7-h]{background:none;cursor:none;-webkit-transform-origin:center center;transform-origin:center center}#aniplayer_AV64e5bbb8f7555fbb940d8065-1698643567004:not(#\\\\#) avp-annotation[_382ee1c7],#aniplayer_AV64e5bbb8f7555fbb940d8065-1698643567004:not(#\\\\#) avp-description[_382ee1c7],#aniplayer_AV64e5bbb8f7555fbb940d8065-1698643567004:not(#\\\\#) avp-logo[_382ee1c7],#aniplayer_AV64e5bbb8f7555fbb940d8065-1698643567004:not(#\\\\#) avp-next-preview[_382ee1c7],#aniplayer_AV64e5bbb8f7555fbb940d8065-1698643567004:not(#\\\\#) avp-share[_382ee1c7],#aniplayer_AV64e5bbb8f7555fbb940d8065-1698643567004:not(#\\\\#) avp-title[_382ee1c7]{cursor:auto;pointer-events:auto}#aniplayer_AV64e5bbb8f7555fbb940d8065-1698643567004:not(#\\\\#) .avp-bottom[_382ee1c7],#aniplayer_AV64e5bbb8f7555fbb940d8065-1698643567004:not(#\\\\#) .avp-top[_382ee1c7]{display:flex;justify-content:space-between}#aniplayer_AV64e5bbb8f7555fbb940d8065-1698643567004:not(#\\\\#) .avp-middle-bottom[_382ee1c7],#aniplayer_AV64e5bbb8f7555fbb940d8065-1698643567004:not(#\\\\#) .avp-middle-top[_382ee1c7],#aniplayer_AV64e5bbb8f7555fbb940d8065-1698643567004:not(#\\\\#) .avp-middle[_382ee1c7],#aniplayer_AV64e5bbb8f7555fbb940d8065-1698643567004:not(#\\\\#) .avp-top-center[_382ee1c7],#aniplayer_AV64e5bbb8f7555fbb940d8065-1698643567004:not(#\\\\#) .avp-top-left[_382ee1c7],#aniplayer_AV64e5bbb8f7555fbb940d8065-1698643567004:not(#\\\\#) .avp-top-right[_382ee1c7]{display:flex;height:100%}#aniplayer_AV64e5bbb8f7555fbb940d8065-1698643567004:not(#\\\\#) .avp-middle-top[_382ee1c7],#aniplayer_AV64e5bbb8f7555fbb940d8065-1698643567004:not(#\\\\#) .avp-top[_382ee1c7]{align-items:flex-start}#aniplayer_AV64e5bbb8f7555fbb940d8065-1698643567004:not(#\\\\#) .avp-bottom[_382ee1c7],#aniplayer_AV64e5bbb8f7555fbb940d8065-1698643567004:not(#\\\\#) .avp-middle-bottom[_382ee1c7]{align-items:flex-end}#aniplayer_AV64e5bbb8f7555fbb940d8065-1698643567004:not(#\\\\#) .avp-top[_382ee1c7]{min-height:24px;min-height:var(--avp-top-height);padding:0;padding:var(--avp-edge-column-indent) var(--avp-edge-row-indent)}#aniplayer_AV64e5bbb8f7555fbb940d8065-1698643567004:not(#\\\\#) .avp-top-center[_382ee1c7],#aniplayer_AV64e5bbb8f7555fbb940d8065-1698643567004:not(#\\\\#) .avp-top-left[_382ee1c7],#aniplayer_AV64e5bbb8f7555fbb940d8065-1698643567004:not(#\\\\#) .avp-top-right[_382ee1c7]{align-items:center}#aniplayer_AV64e5bbb8f7555fbb940d8065-1698643567004:not(#\\\\#) .avp-top-center[_382ee1c7]{flex:1;flex-direction:column;height:auto;justify-content:center;justify-self:center;min-height:100%}#aniplayer_AV64e5bbb8f7555fbb940d8065-1698643567004:not(#\\\\#) .avp-middle-bottom[_382ee1c7],#aniplayer_AV64e5bbb8f7555fbb940d8065-1698643567004:not(#\\\\#) .avp-middle-top[_382ee1c7],#aniplayer_AV64e5bbb8f7555fbb940d8065-1698643567004:not(#\\\\#) .avp-middle[_382ee1c7]{display:grid}#aniplayer_AV64e5bbb8f7555fbb940d8065-1698643567004:not(#\\\\#) .avp-middle[_382ee1c7]{flex-direction:column;min-height:0}#aniplayer_AV64e5bbb8f7555fbb940d8065-1698643567004:not(#\\\\#) [w~=xs] .avp-middle[_382ee1c7]{justify-content:flex-end}#aniplayer_AV64e5bbb8f7555fbb940d8065-1698643567004:not(#\\\\#) .avp-middle-bottom[_382ee1c7],#aniplayer_AV64e5bbb8f7555fbb940d8065-1698643567004:not(#\\\\#) .avp-middle-middle[_382ee1c7],#aniplayer_AV64e5bbb8f7555fbb940d8065-1698643567004:not(#\\\\#) .avp-middle-top[_382ee1c7]{pointer-events:none}#aniplayer_AV64e5bbb8f7555fbb940d8065-1698643567004:not(#\\\\#) .avp-middle-bottom[_382ee1c7],#aniplayer_AV64e5bbb8f7555fbb940d8065-1698643567004:not(#\\\\#) .avp-middle-top[_382ee1c7]{max-height:50%;transition:translate .2s;transition:translate var(--avp-transition-duration)}#aniplayer_AV64e5bbb8f7555fbb940d8065-1698643567004:not(#\\\\#) .avp-middle-top[_382ee1c7]{align-self:flex-start}#aniplayer_AV64e5bbb8f7555fbb940d8065-1698643567004:not(#\\\\#) .avp-middle-top.avp-expanded[_382ee1c7]{translate:0 -20px;translate:0 calc(var(--avp-edge-row-indent) + var(--avp-secondary-control-padding) - var(--avp-top-height))}#aniplayer_AV64e5bbb8f7555fbb940d8065-1698643567004:not(#\\\\#) .avp-middle-middle[_382ee1c7]{align-items:center;justify-content:center}#aniplayer_AV64e5bbb8f7555fbb940d8065-1698643567004:not(#\\\\#) .avp-middle-bottom[_382ee1c7]{align-self:flex-end}#aniplayer_AV64e5bbb8f7555fbb940d8065-1698643567004:not(#\\\\#) .avp-middle-bottom.avp-expanded[_382ee1c7]{translate:0 20px;translate:0 calc(var(--avp-bottom-height) - var(--avp-edge-row-indent) - var(--avp-secondary-control-padding))}#aniplayer_AV64e5bbb8f7555fbb940d8065-1698643567004:not(#\\\\#) avp-primary-controls[_382ee1c7]{z-index:2}#aniplayer_AV64e5bbb8f7555fbb940d8065-1698643567004:not(#\\\\#) .avp-bottom[_382ee1c7]{justify-content:flex-end;min-height:24px;min-height:var(--avp-top-height)}#aniplayer_AV64e5bbb8f7555fbb940d8065-1698643567004:not(#\\\\#) .avp-control-bar[_382ee1c7]{display:flex;flex-shrink:0;position:relative;z-index:5}#aniplayer_AV64e5bbb8f7555fbb940d8065-1698643567004:not(#\\\\#) .avp-bottom[_382ee1c7],#aniplayer_AV64e5bbb8f7555fbb940d8065-1698643567004:not(#\\\\#) .avp-control-bar[_382ee1c7],#aniplayer_AV64e5bbb8f7555fbb940d8065-1698643567004:not(#\\\\#) .avp-top[_382ee1c7]{flex-shrink:0}#aniplayer_AV64e5bbb8f7555fbb940d8065-1698643567004:not(#\\\\#) .avp-bottom[_382ee1c7]:before,#aniplayer_AV64e5bbb8f7555fbb940d8065-1698643567004:not(#\\\\#) .avp-control-bar[_382ee1c7]:before,#aniplayer_AV64e5bbb8f7555fbb940d8065-1698643567004:not(#\\\\#) .avp-top[_382ee1c7]:before{content:\"\";opacity:0;pointer-events:none;position:absolute;transition:opacity .2s;transition:opacity var(--avp-transition-duration);z-index:-2}#aniplayer_AV64e5bbb8f7555fbb940d8065-1698643567004:not(#\\\\#) .avp-bottom.avp-background-gradient[_382ee1c7],#aniplayer_AV64e5bbb8f7555fbb940d8065-1698643567004:not(#\\\\#) .avp-control-bar.avp-background-gradient[_382ee1c7],#aniplayer_AV64e5bbb8f7555fbb940d8065-1698643567004:not(#\\\\#) .avp-top.avp-background-gradient[_382ee1c7]{position:relative}#aniplayer_AV64e5bbb8f7555fbb940d8065-1698643567004:not(#\\\\#) .avp-bottom.avp-background-gradient[_382ee1c7]:before,#aniplayer_AV64e5bbb8f7555fbb940d8065-1698643567004:not(#\\\\#) .avp-control-bar.avp-background-gradient[_382ee1c7]:before,#aniplayer_AV64e5bbb8f7555fbb940d8065-1698643567004:not(#\\\\#) .avp-top.avp-background-gradient[_382ee1c7]:before{opacity:1}#aniplayer_AV64e5bbb8f7555fbb940d8065-1698643567004:not(#\\\\#) .avp-bottom[_382ee1c7]:before,#aniplayer_AV64e5bbb8f7555fbb940d8065-1698643567004:not(#\\\\#) .avp-top[_382ee1c7]:before{left:0;right:0}#aniplayer_AV64e5bbb8f7555fbb940d8065-1698643567004:not(#\\\\#) .avp-vertical[_382ee1c7-h] .avp-bottom[_382ee1c7]:before,#aniplayer_AV64e5bbb8f7555fbb940d8065-1698643567004:not(#\\\\#) .avp-vertical[_382ee1c7-h] .avp-top[_382ee1c7]:before{left:-100%}#aniplayer_AV64e5bbb8f7555fbb940d8065-1698643567004:not(#\\\\#) .avp-top[_382ee1c7]:before{background-image:linear-gradient(rgba(0,0,0,.55),transparent);background-image:linear-gradient(var(--avp-overlay-background),transparent);height:26.4px;height:calc(var(--avp-top-height)*1.1);top:0}#aniplayer_AV64e5bbb8f7555fbb940d8065-1698643567004:not(#\\\\#) .avp-bottom[_382ee1c7]:before{background-image:linear-gradient(transparent,rgba(0,0,0,.55) 110%);background-image:linear-gradient(transparent,var(--avp-overlay-background) 110%);bottom:0;height:24px;height:var(--avp-top-height)}#aniplayer_AV64e5bbb8f7555fbb940d8065-1698643567004:not(#\\\\#) .avp-control-bar[_382ee1c7]:before{background-image:linear-gradient(270deg,transparent,rgba(0,0,0,.55) 110%);background-image:linear-gradient(to left,transparent,var(--avp-overlay-background) 110%);bottom:0;left:0;top:0;width:24px;width:var(--avp-top-height)}#aniplayer_AV64e5bbb8f7555fbb940d8065-1698643567004:not(#\\\\#) .avp-top-left avp-logo[_382ee1c7]{margin-right:0}#aniplayer_AV64e5bbb8f7555fbb940d8065-1698643567004:not(#\\\\#) .avp-top-right avp-logo[_382ee1c7]{margin-left:0}#aniplayer_AV64e5bbb8f7555fbb940d8065-1698643567004:not(#\\\\#) .avp-heading[_382ee1c7]{font-size:14px;line-height:1em;padding:0 4px;padding:0 var(--avp-secondary-control-padding);white-space:nowrap;width:100%}#aniplayer_AV64e5bbb8f7555fbb940d8065-1698643567004:not(#\\\\#) [w~=xs] .avp-heading[_382ee1c7]{font-size:18px}#aniplayer_AV64e5bbb8f7555fbb940d8065-1698643567004:not(#\\\\#) [w~=m] .avp-heading[_382ee1c7]{font-size:20px}#aniplayer_AV64e5bbb8f7555fbb940d8065-1698643567004:not(#\\\\#) .avp-heading avp-description[_382ee1c7],#aniplayer_AV64e5bbb8f7555fbb940d8065-1698643567004:not(#\\\\#) .avp-heading avp-title[_382ee1c7]{overflow:hidden;padding:1px 0;text-overflow:ellipsis}#aniplayer_AV64e5bbb8f7555fbb940d8065-1698643567004:not(#\\\\#) [w~=x4s] .avp-heading avp-description[_382ee1c7],#aniplayer_AV64e5bbb8f7555fbb940d8065-1698643567004:not(#\\\\#) [w~=x4s] .avp-heading avp-title[_382ee1c7]{padding-bottom:2px;padding-top:2px}#aniplayer_AV64e5bbb8f7555fbb940d8065-1698643567004:not(#\\\\#) [w~=xs] .avp-heading avp-description[_382ee1c7],#aniplayer_AV64e5bbb8f7555fbb940d8065-1698643567004:not(#\\\\#) [w~=xs] .avp-heading avp-title[_382ee1c7]{padding-bottom:3px;padding-top:1px}#aniplayer_AV64e5bbb8f7555fbb940d8065-1698643567004:not(#\\\\#) [w~=m] .avp-heading avp-description[_382ee1c7],#aniplayer_AV64e5bbb8f7555fbb940d8065-1698643567004:not(#\\\\#) [w~=m] .avp-heading avp-title[_382ee1c7]{padding-bottom:4px;padding-top:0}#aniplayer_AV64e5bbb8f7555fbb940d8065-1698643567004:not(#\\\\#) .avp-heading avp-title[_382ee1c7]{font-weight:600}#aniplayer_AV64e5bbb8f7555fbb940d8065-1698643567004:not(#\\\\#) .avp-heading avp-description[_382ee1c7]{font-size:.7em}#aniplayer_AV64e5bbb8f7555fbb940d8065-1698643567004:not(#\\\\#) avp-auto-skip[_382ee1c7]{margin-top:-15px;position:absolute;right:0;top:50%;z-index:4}#aniplayer_AV64e5bbb8f7555fbb940d8065-1698643567004:not(#\\\\#) [w~=s] avp-auto-skip[_382ee1c7]{margin-top:-12px;margin-top:calc(var(--avp-secondary-control-size)*-1/2)}#aniplayer_AV64e5bbb8f7555fbb940d8065-1698643567004:not(#\\\\#) avp-auto-skip.avp-with-stay-button[_382ee1c7]{margin-top:-32.5px;margin-top:calc(-30px - var(--avp-auto-skip-track-size)/2)}#aniplayer_AV64e5bbb8f7555fbb940d8065-1698643567004:not(#\\\\#) [w~=s] avp-auto-skip.avp-with-stay-button[_382ee1c7]{margin-top:-26.5px;margin-top:calc(var(--avp-secondary-control-size)*-1 - var(--avp-auto-skip-track-size)/2)}#aniplayer_AV64e5bbb8f7555fbb940d8065-1698643567004:not(#\\\\#) [_382ee1c7-h]{--avp-bottom-height:max(calc(var(--avp-secondary-control-size) + var(--avp-edge-row-indent)*2),var(--avp-control-panel-block-size));align-items:stretch;flex-direction:column}#aniplayer_AV64e5bbb8f7555fbb940d8065-1698643567004:not(#\\\\#) [w~=s] .avp-playlist-open[_382ee1c7-h] avp-primary-controls{-webkit-transform:translateY(-50%);transform:translateY(-50%)}#aniplayer_AV64e5bbb8f7555fbb940d8065-1698643567004:not(#\\\\#) [w~=s] .avp-playlist-open[_382ee1c7-h] avp-primary-controls,#aniplayer_AV64e5bbb8f7555fbb940d8065-1698643567004:not(#\\\\#) [w~=s] .avp-playlist-visible[_382ee1c7-h] avp-primary-controls{transition:opacity .2s,rotate .2s,translate .2s,scale .2s,-webkit-transform .2s;transition:opacity .2s,transform .2s,rotate .2s,translate .2s,scale .2s;transition:opacity .2s,transform .2s,rotate .2s,translate .2s,scale .2s,-webkit-transform .2s;transition:var(--avp-transition)}#aniplayer_AV64e5bbb8f7555fbb940d8065-1698643567004:not(#\\\\#) avp-secondary-controls[_382ee1c7]{align-items:flex-end;height:24px;height:var(--avp-secondary-control-size);padding:0;padding:0 var(--avp-edge-row-indent);width:100%}#aniplayer_AV64e5bbb8f7555fbb940d8065-1698643567004:not(#\\\\#) [w~=xs] avp-secondary-controls[_382ee1c7]:first-child:last-child{margin-bottom:6px;margin-bottom:var(--avp-timeline-block-size)}#aniplayer_AV64e5bbb8f7555fbb940d8065-1698643567004:not(#\\\\#) avp-secondary-controls[_382ee1c7]>*{align-items:flex-end}#aniplayer_AV64e5bbb8f7555fbb940d8065-1698643567004:not(#\\\\#) .avp-control-bar[_382ee1c7]{flex-direction:column;justify-content:flex-end;width:100%}#aniplayer_AV64e5bbb8f7555fbb940d8065-1698643567004:not(#\\\\#) [_382ee168-h]{--avp-logo-inline-offset:var(--avp-secondary-control-padding);--avp-logo-block-offset:var(--avp-logo-inline-offset);--avp-logo-image-width:max(calc(var(--avp-secondary-control-size) - var(--avp-secondary-control-padding)*2),24px);--avp-logo-image-height:var(--avp-logo-image-width);--avp-logo-image-max-height:calc(var(--avp-secondary-control-size) - var(--avp-logo-block-offset)*2);--avp-logo-image-max-width:calc(var(--avp-logo-image-max-height)*var(--avp-logo-image-aspect-ratio));flex-shrink:0;margin:0 max(4px,min(calc((24px - max(calc(24px - 4px * 2), 24px))/2),4px));margin:0 max(var(--avp-logo-inline-offset),min(calc((var(--avp-secondary-control-size) - var(--avp-logo-image-height))/2),var(--avp-secondary-control-padding)))}#aniplayer_AV64e5bbb8f7555fbb940d8065-1698643567004:not(#\\\\#) [w~=x4s] [_382ee168-h]{--avp-logo-title-offset:6px}#aniplayer_AV64e5bbb8f7555fbb940d8065-1698643567004:not(#\\\\#) [w~=xxs] [_382ee168-h]{--avp-logo-title-offset:9px}#aniplayer_AV64e5bbb8f7555fbb940d8065-1698643567004:not(#\\\\#) [w~=xs] [_382ee168-h]{--avp-logo-inline-offset:4px;--avp-logo-block-offset:0px}#aniplayer_AV64e5bbb8f7555fbb940d8065-1698643567004:not(#\\\\#) .avp-logo[_382ee168]{align-items:center;display:flex}#aniplayer_AV64e5bbb8f7555fbb940d8065-1698643567004:not(#\\\\#) .avp-reversed[_382ee168-h] .avp-logo[_382ee168]{flex-direction:row-reverse;justify-content:flex-end}#aniplayer_AV64e5bbb8f7555fbb940d8065-1698643567004:not(#\\\\#) .avp-logo[href=\"\"][_382ee168]{cursor:default;pointer-events:none}#aniplayer_AV64e5bbb8f7555fbb940d8065-1698643567004:not(#\\\\#) avp-icon[_382ee168],#aniplayer_AV64e5bbb8f7555fbb940d8065-1698643567004:not(#\\\\#) avp-logo-image[_382ee168]{height:16px;height:var(--avp-logo-image-height);max-height:var(--avp-logo-image-max-height);max-width:var(--avp-logo-image-max-width);width:16px;width:var(--avp-logo-image-width)}#aniplayer_AV64e5bbb8f7555fbb940d8065-1698643567004:not(#\\\\#) avp-icon[_382ee168]{background-color:#cb2728;display:block}#aniplayer_AV64e5bbb8f7555fbb940d8065-1698643567004:not(#\\\\#) avp-logo-title[_382ee168]{padding-right:0}#aniplayer_AV64e5bbb8f7555fbb940d8065-1698643567004:not(#\\\\#) .avp-reversed[_382ee168-h] avp-logo-title[_382ee168]{padding-left:0;padding-right:4px;padding-right:var(--avp-logo-title-offset)}#aniplayer_AV64e5bbb8f7555fbb940d8065-1698643567004:not(#\\\\#) .avp-solid[_382ee168-h] avp-logo-title[_382ee168]{background:hsla(0,0%,100%,.85);color:#000;margin-left:4px;padding-right:4px;padding-right:var(--avp-logo-title-offset)}#aniplayer_AV64e5bbb8f7555fbb940d8065-1698643567004:not(#\\\\#) .avp-reversed.avp-solid[_382ee168-h] avp-logo-title[_382ee168]{margin-left:0;margin-right:4px;padding-left:4px;padding-left:var(--avp-logo-title-offset)}#aniplayer_AV64e5bbb8f7555fbb940d8065-1698643567004:not(#\\\\#) img[_382ee166]{align-items:center;display:flex;height:100%;justify-content:center;object-fit:contain;-webkit-user-select:none;user-select:none;width:100%}#aniplayer_AV64e5bbb8f7555fbb940d8065-1698643567004:not(#\\\\#) [_382ee167-h]{font-size:14px;font-weight:600;line-height:min(16px,var(--avp-logo-image-max-height));line-height:min(var(--avp-logo-image-height),var(--avp-logo-image-max-height));padding:0 4px;padding:0 var(--avp-logo-title-offset)}#aniplayer_AV64e5bbb8f7555fbb940d8065-1698643567004:not(#\\\\#) .avp-horizontal[_382ee1c6-h]{height:6px;height:var(--avp-timeline-block-size);width:100%}#aniplayer_AV64e5bbb8f7555fbb940d8065-1698643567004:not(#\\\\#) .avp-horizontal[_382ee1c6-h] .avp-chapters[_382ee1c6]{flex-direction:row}#aniplayer_AV64e5bbb8f7555fbb940d8065-1698643567004:not(#\\\\#) .avp-horizontal[_382ee1c6-h] avp-timeline-chapter[_382ee1c6]{margin-left:2px;margin-left:var(--avp-timeline-chapter-gap);margin-top:-12px;margin-top:calc(var(--avp-timeline-clickable-area-gap)*-1);padding-top:12px;padding-top:var(--avp-timeline-clickable-area-gap)}#aniplayer_AV64e5bbb8f7555fbb940d8065-1698643567004:not(#\\\\#) .avp-horizontal[_382ee1c6-h] avp-timeline-chapter[_382ee1c6]:before{height:100%;left:-2px;left:calc(var(--avp-timeline-chapter-gap)*-1);right:100%;top:0;width:2px;width:var(--avp-timeline-chapter-gap)}#aniplayer_AV64e5bbb8f7555fbb940d8065-1698643567004:not(#\\\\#) .avp-horizontal[_382ee1c6-h] avp-timeline-chapter[_382ee1c6]:first-child{margin-left:0}#aniplayer_AV64e5bbb8f7555fbb940d8065-1698643567004:not(#\\\\#) .avp-horizontal[_382ee1c6-h] .avp-time-tooltip[_382ee1c6]{bottom:100%;top:auto}#aniplayer_AV64e5bbb8f7555fbb940d8065-1698643567004:not(#\\\\#) .avp-horizontal.avp-end[_382ee1c6-h]{margin:0 4px;margin:0 var(--avp-secondary-control-padding);width:calc(100% - 8px);width:calc(100% - var(--avp-secondary-control-padding)*2)}#aniplayer_AV64e5bbb8f7555fbb940d8065-1698643567004:not(#\\\\#) .avp-hidden .avp-horizontal.avp-end[_382ee1c6-h]{-webkit-transform:translateY(24px);transform:translateY(24px);-webkit-transform:translateY(var(--avp-secondary-control-size));transform:translateY(var(--avp-secondary-control-size))}#aniplayer_AV64e5bbb8f7555fbb940d8065-1698643567004:not(#\\\\#) .avp-horizontal.avp-end[_382ee1c6-h] .avp-time-tooltip[_382ee1c6]{margin-left:0;margin-right:0}#aniplayer_AV64e5bbb8f7555fbb940d8065-1698643567004:not(#\\\\#) .avp-rl .avp-chapters[_382ee1c6]{flex-direction:row-reverse}#aniplayer_AV64e5bbb8f7555fbb940d8065-1698643567004:not(#\\\\#) .avp-pointer-container.avp-horizontal[_382ee1c6]{bottom:-3.501px;bottom:calc((var(--avp-timeline-block-size) - var(--avp-timeline-pointer-size))/2);left:0}#aniplayer_AV64e5bbb8f7555fbb940d8065-1698643567004:not(#\\\\#) .avp-pointer-container.avp-horizontal .avp-pointer[_382ee1c6]{-webkit-transform:translateX(-50%) scale(0);transform:translateX(-50%) scale(0)}#aniplayer_AV64e5bbb8f7555fbb940d8065-1698643567004:not(#\\\\#) .avp-pointer-container.avp-horizontal.avp-visible .avp-pointer[_382ee1c6]{-webkit-transform:translateX(-50%) scale(1);transform:translateX(-50%) scale(1)}#aniplayer_AV64e5bbb8f7555fbb940d8065-1698643567004:not(#\\\\#) .avp-horizontal.avp-rl avp-timeline-chapter[_382ee1c6]{margin-left:2px;margin-left:var(--avp-timeline-chapter-gap);margin-right:0}#aniplayer_AV64e5bbb8f7555fbb940d8065-1698643567004:not(#\\\\#) .avp-horizontal.avp-rl avp-timeline-chapter[_382ee1c6]:last-child{margin-left:0}#aniplayer_AV64e5bbb8f7555fbb940d8065-1698643567004:not(#\\\\#) .avp-vertical[_382ee1c6-h]{height:100%;width:6px;width:var(--avp-timeline-block-size)}#aniplayer_AV64e5bbb8f7555fbb940d8065-1698643567004:not(#\\\\#) .avp-vertical[_382ee1c6-h] .avp-chapters[_382ee1c6]{flex-direction:column-reverse}#aniplayer_AV64e5bbb8f7555fbb940d8065-1698643567004:not(#\\\\#) .avp-vertical[_382ee1c6-h] avp-timeline-chapter[_382ee1c6]{margin-bottom:2px;margin-bottom:var(--avp-timeline-chapter-gap);margin-right:-12px;margin-right:calc(var(--avp-timeline-clickable-area-gap)*-1);padding-right:12px;padding-right:var(--avp-timeline-clickable-area-gap)}#aniplayer_AV64e5bbb8f7555fbb940d8065-1698643567004:not(#\\\\#) .avp-vertical[_382ee1c6-h] avp-timeline-chapter[_382ee1c6]:before{bottom:-2px;bottom:calc(var(--avp-timeline-chapter-gap)*-1);height:2px;height:var(--avp-timeline-chapter-gap);left:0;top:100%;width:100%}#aniplayer_AV64e5bbb8f7555fbb940d8065-1698643567004:not(#\\\\#) .avp-vertical[_382ee1c6-h] avp-timeline-chapter[_382ee1c6]:first-child{margin-bottom:0}#aniplayer_AV64e5bbb8f7555fbb940d8065-1698643567004:not(#\\\\#) .avp-vertical[_382ee1c6-h] avp-timeline-chapter:hover~avp-timeline-chapter[_382ee1c6] .avp-hover-progress{height:0}#aniplayer_AV64e5bbb8f7555fbb940d8065-1698643567004:not(#\\\\#) .avp-vertical[_382ee1c6-h] .avp-time-tooltip[_382ee1c6]{left:100%}#aniplayer_AV64e5bbb8f7555fbb940d8065-1698643567004:not(#\\\\#) .avp-vertical.avp-end[_382ee1c6-h]{height:calc(100% - 8px);height:calc(100% - var(--avp-secondary-control-padding)*2);margin:4px 0;margin:var(--avp-secondary-control-padding) 0}#aniplayer_AV64e5bbb8f7555fbb940d8065-1698643567004:not(#\\\\#) .avp-hidden .avp-vertical.avp-end[_382ee1c6-h]{-webkit-transform:translateX(-24px);transform:translateX(-24px);-webkit-transform:translateX(calc(var(--avp-secondary-control-size)*-1));transform:translateX(calc(var(--avp-secondary-control-size)*-1))}#aniplayer_AV64e5bbb8f7555fbb940d8065-1698643567004:not(#\\\\#) .avp-vertical.avp-end[_382ee1c6-h] .avp-time-tooltip[_382ee1c6]{margin-bottom:0;margin-top:0}#aniplayer_AV64e5bbb8f7555fbb940d8065-1698643567004:not(#\\\\#) .avp-tb .avp-chapters[_382ee1c6]{flex-direction:column}#aniplayer_AV64e5bbb8f7555fbb940d8065-1698643567004:not(#\\\\#) .avp-pointer-container.avp-vertical[_382ee1c6]{bottom:auto;top:0}#aniplayer_AV64e5bbb8f7555fbb940d8065-1698643567004:not(#\\\\#) .avp-pointer-container.avp-vertical .avp-pointer[_382ee1c6]{-webkit-transform:translate(-3px,-50%) scale(0);transform:translate(-3px,-50%) scale(0);-webkit-transform:translate(calc(var(--avp-timeline-block-size)/-2),-50%) scale(0);transform:translate(calc(var(--avp-timeline-block-size)/-2),-50%) scale(0)}#aniplayer_AV64e5bbb8f7555fbb940d8065-1698643567004:not(#\\\\#) .avp-pointer-container.avp-vertical.avp-visible .avp-pointer[_382ee1c6]{-webkit-transform:translate(-3.2505px,-50%) scale(1);transform:translate(-3.2505px,-50%) scale(1);-webkit-transform:translate(calc(var(--avp-timeline-pointer-size)/-4),-50%) scale(1);transform:translate(calc(var(--avp-timeline-pointer-size)/-4),-50%) scale(1)}#aniplayer_AV64e5bbb8f7555fbb940d8065-1698643567004:not(#\\\\#) [_382ee1c6-h]{cursor:pointer;flex-shrink:0;pointer-events:auto;position:relative;touch-action:none;transition:opacity .2s,rotate .2s,translate .2s,scale .2s,-webkit-transform .2s;transition:opacity .2s,transform .2s,rotate .2s,translate .2s,scale .2s;transition:opacity .2s,transform .2s,rotate .2s,translate .2s,scale .2s,-webkit-transform .2s;transition:var(--avp-transition);z-index:0}#aniplayer_AV64e5bbb8f7555fbb940d8065-1698643567004:not(#\\\\#) .avp-start[_382ee1c6-h]{z-index:2}#aniplayer_AV64e5bbb8f7555fbb940d8065-1698643567004:not(#\\\\#) .avp-inert[_382ee1c6-h]{pointer-events:none}#aniplayer_AV64e5bbb8f7555fbb940d8065-1698643567004:not(#\\\\#) .avp-pointer-container[_382ee1c6]{bottom:0;left:0;pointer-events:none;position:absolute}#aniplayer_AV64e5bbb8f7555fbb940d8065-1698643567004:not(#\\\\#) .avp-pointer[_382ee1c6]{background-color:#ed1e1e;background-color:var(--avp-brand-color);border-radius:50%;box-shadow:0 0 5px rgba(0,0,0,.4);height:13.002px;height:var(--avp-timeline-pointer-size);opacity:0;transition:opacity .2s,rotate .2s,translate .2s,scale .2s,-webkit-transform .2s;transition:opacity .2s,transform .2s,rotate .2s,translate .2s,scale .2s;transition:opacity .2s,transform .2s,rotate .2s,translate .2s,scale .2s,-webkit-transform .2s;transition:var(--avp-transition);width:13.002px;width:var(--avp-timeline-pointer-size)}#aniplayer_AV64e5bbb8f7555fbb940d8065-1698643567004:not(#\\\\#) .avp-pointer-container.avp-visible .avp-pointer[_382ee1c6]{opacity:1}#aniplayer_AV64e5bbb8f7555fbb940d8065-1698643567004:not(#\\\\#) .avp-chapters[_382ee1c6]{display:flex;height:100%;width:100%}#aniplayer_AV64e5bbb8f7555fbb940d8065-1698643567004:not(#\\\\#) .avp-time-tooltip[_382ee1c6]{background:rgba(0,0,0,.8);border-radius:3px;font-size:.8em;left:0;line-height:normal;margin:6px;margin:var(--avp-timeline-block-size);opacity:0;padding:4px;pointer-events:none;position:absolute;text-align:center;top:0;transition:opacity .2s;transition:opacity var(--avp-transition-duration);-webkit-user-select:none;user-select:none}#aniplayer_AV64e5bbb8f7555fbb940d8065-1698643567004:not(#\\\\#) [w~=s] .avp-time-tooltip[_382ee1c6]{font-size:1em}#aniplayer_AV64e5bbb8f7555fbb940d8065-1698643567004:not(#\\\\#) [w~=l] .avp-time-tooltip[_382ee1c6]{font-size:1.2em}#aniplayer_AV64e5bbb8f7555fbb940d8065-1698643567004:not(#\\\\#) .avp-time-tooltip span[_382ee1c6]{display:inline-block}#aniplayer_AV64e5bbb8f7555fbb940d8065-1698643567004:not(#\\\\#) .avp-dragging[_382ee1c6-h] .avp-time-tooltip[_382ee1c6],#aniplayer_AV64e5bbb8f7555fbb940d8065-1698643567004:not(#\\\\#) [_382ee1c6-h]:hover .avp-time-tooltip[_382ee1c6]{opacity:1}#aniplayer_AV64e5bbb8f7555fbb940d8065-1698643567004:not(#\\\\#) [_382ee1c6-h] .avp-time-tooltip:empty,#aniplayer_AV64e5bbb8f7555fbb940d8065-1698643567004:not(#\\\\#) [inert][_382ee1c6-h] .avp-time-tooltip[_382ee1c6]{opacity:0}#aniplayer_AV64e5bbb8f7555fbb940d8065-1698643567004:not(#\\\\#) avp-timeline.avp-horizontal .avp-dragging[_382ee1c5-h]~[_382ee1c5-h] .avp-hover-progress,#aniplayer_AV64e5bbb8f7555fbb940d8065-1698643567004:not(#\\\\#) avp-timeline.avp-horizontal [_382ee1c5-h]:hover~[_382ee1c5-h] .avp-hover-progress{width:0}#aniplayer_AV64e5bbb8f7555fbb940d8065-1698643567004:not(#\\\\#) avp-timeline.avp-horizontal .avp-track[_382ee1c5]{height:auto;top:12px;top:var(--avp-timeline-clickable-area-gap);-webkit-transform:scaleY(.6667);transform:scaleY(.6667);-webkit-transform:scaleY(var(--avp-timeline-minimize-scale-factor));transform:scaleY(var(--avp-timeline-minimize-scale-factor))}#aniplayer_AV64e5bbb8f7555fbb940d8065-1698643567004:not(#\\\\#) avp-timeline.avp-horizontal .avp-buffer[_382ee1c5],#aniplayer_AV64e5bbb8f7555fbb940d8065-1698643567004:not(#\\\\#) avp-timeline.avp-horizontal .avp-progress[_382ee1c5]{-webkit-transform:scaleX(0);transform:scaleX(0)}#aniplayer_AV64e5bbb8f7555fbb940d8065-1698643567004:not(#\\\\#) avp-timeline.avp-vertical .avp-track[_382ee1c5]{right:12px;right:var(--avp-timeline-clickable-area-gap);-webkit-transform:scaleX(.6667);transform:scaleX(.6667);-webkit-transform:scaleX(var(--avp-timeline-minimize-scale-factor));transform:scaleX(var(--avp-timeline-minimize-scale-factor));width:auto}#aniplayer_AV64e5bbb8f7555fbb940d8065-1698643567004:not(#\\\\#) avp-timeline.avp-vertical .avp-buffer[_382ee1c5],#aniplayer_AV64e5bbb8f7555fbb940d8065-1698643567004:not(#\\\\#) avp-timeline.avp-vertical .avp-progress[_382ee1c5]{-webkit-transform:scaleY(0);transform:scaleY(0)}#aniplayer_AV64e5bbb8f7555fbb940d8065-1698643567004:not(#\\\\#) [_382ee1c5]{bottom:0;height:100%;left:0;position:absolute;width:100%;z-index:0}#aniplayer_AV64e5bbb8f7555fbb940d8065-1698643567004:not(#\\\\#) avp-timeline.avp-horizontal.avp-end [_382ee1c5]{-webkit-transform-origin:left center;transform-origin:left center}#aniplayer_AV64e5bbb8f7555fbb940d8065-1698643567004:not(#\\\\#) avp-timeline.avp-horizontal.avp-end.avp-reversed [_382ee1c5]{-webkit-transform-origin:right center;transform-origin:right center}#aniplayer_AV64e5bbb8f7555fbb940d8065-1698643567004:not(#\\\\#) .avp-view.avp-hidden avp-timeline.avp-horizontal.avp-end [_382ee1c5],#aniplayer_AV64e5bbb8f7555fbb940d8065-1698643567004:not(#\\\\#) avp-timeline.avp-horizontal.avp-start [_382ee1c5]{-webkit-transform-origin:left bottom;transform-origin:left bottom}#aniplayer_AV64e5bbb8f7555fbb940d8065-1698643567004:not(#\\\\#) .avp-view.avp-hidden avp-timeline.avp-horizontal.avp-end.avp-reversed [_382ee1c5],#aniplayer_AV64e5bbb8f7555fbb940d8065-1698643567004:not(#\\\\#) avp-timeline.avp-horizontal.avp-start.avp-reversed [_382ee1c5]{-webkit-transform-origin:right bottom;transform-origin:right bottom}#aniplayer_AV64e5bbb8f7555fbb940d8065-1698643567004:not(#\\\\#) .avp-view.avp-hidden avp-timeline.avp-vertical.avp-end [_382ee1c5],#aniplayer_AV64e5bbb8f7555fbb940d8065-1698643567004:not(#\\\\#) avp-timeline.avp-vertical.avp-start [_382ee1c5]{-webkit-transform-origin:top left;transform-origin:top left}#aniplayer_AV64e5bbb8f7555fbb940d8065-1698643567004:not(#\\\\#) .avp-view.avp-hidden avp-timeline.avp-vertical.avp-end.avp-reversed [_382ee1c5],#aniplayer_AV64e5bbb8f7555fbb940d8065-1698643567004:not(#\\\\#) avp-timeline.avp-vertical.avp-start.avp-reversed [_382ee1c5]{-webkit-transform-origin:bottom left;transform-origin:bottom left}#aniplayer_AV64e5bbb8f7555fbb940d8065-1698643567004:not(#\\\\#) avp-timeline.avp-vertical.avp-end [_382ee1c5]{-webkit-transform-origin:top center;transform-origin:top center}#aniplayer_AV64e5bbb8f7555fbb940d8065-1698643567004:not(#\\\\#) avp-timeline.avp-vertical.avp-end.avp-reversed [_382ee1c5]{-webkit-transform-origin:bottom center;transform-origin:bottom center}#aniplayer_AV64e5bbb8f7555fbb940d8065-1698643567004:not(#\\\\#) [_382ee1c5-h]{box-sizing:initial;display:block;position:relative}#aniplayer_AV64e5bbb8f7555fbb940d8065-1698643567004:not(#\\\\#) avp-timeline.avp-horizontal [_382ee1c5-h]{touch-action:pan-x;width:100%}#aniplayer_AV64e5bbb8f7555fbb940d8065-1698643567004:not(#\\\\#) avp-timeline.avp-vertical [_382ee1c5-h]{height:100%;touch-action:pan-y}#aniplayer_AV64e5bbb8f7555fbb940d8065-1698643567004:not(#\\\\#) [_382ee1c5-h]:before{content:\"\";display:block;pointer-events:auto;position:absolute;z-index:0}#aniplayer_AV64e5bbb8f7555fbb940d8065-1698643567004:not(#\\\\#) [_382ee1c5-h]:first-child:before{content:none}#aniplayer_AV64e5bbb8f7555fbb940d8065-1698643567004:not(#\\\\#) .avp-track[_382ee1c5]{background-color:hsla(0,0%,100%,.25);-webkit-transform-origin:center;transform-origin:center;transition:-webkit-transform-origin .2s,-webkit-transform .2s;transition:transform-origin .2s,transform .2s;transition:transform-origin .2s,transform .2s,-webkit-transform-origin .2s,-webkit-transform .2s;transition:-webkit-transform-origin var(--avp-transition-duration),-webkit-transform var(--avp-transition-duration);transition:transform-origin var(--avp-transition-duration),transform var(--avp-transition-duration);transition:transform-origin var(--avp-transition-duration),transform var(--avp-transition-duration),-webkit-transform-origin var(--avp-transition-duration),-webkit-transform var(--avp-transition-duration)}#aniplayer_AV64e5bbb8f7555fbb940d8065-1698643567004:not(#\\\\#) .avp-buffer[_382ee1c5],#aniplayer_AV64e5bbb8f7555fbb940d8065-1698643567004:not(#\\\\#) .avp-hover-progress[_382ee1c5]{background-color:hsla(0,0%,100%,.4)}#aniplayer_AV64e5bbb8f7555fbb940d8065-1698643567004:not(#\\\\#) .avp-hover-progress[_382ee1c5]{display:none}#aniplayer_AV64e5bbb8f7555fbb940d8065-1698643567004:not(#\\\\#) .avp-progress[_382ee1c5]{background-color:#ed1e1e;background-color:var(--avp-brand-color)}#aniplayer_AV64e5bbb8f7555fbb940d8065-1698643567004:not(#\\\\#) avp-timeline.avp-dragging .avp-track[_382ee1c5],#aniplayer_AV64e5bbb8f7555fbb940d8065-1698643567004:not(#\\\\#) avp-timeline:hover .avp-track[_382ee1c5]{-webkit-transform:none;transform:none}#aniplayer_AV64e5bbb8f7555fbb940d8065-1698643567004:not(#\\\\#) avp-timeline.avp-dragging .avp-hover-progress[_382ee1c5],#aniplayer_AV64e5bbb8f7555fbb940d8065-1698643567004:not(#\\\\#) avp-timeline:hover .avp-hover-progress[_382ee1c5]{display:block}#aniplayer_AV64e5bbb8f7555fbb940d8065-1698643567004:not(#\\\\#) [_382ee1c3-h]{display:flex;flex-shrink:0;justify-content:space-between}#aniplayer_AV64e5bbb8f7555fbb940d8065-1698643567004:not(#\\\\#) .avp-secondary-controls-center[_382ee1c3],#aniplayer_AV64e5bbb8f7555fbb940d8065-1698643567004:not(#\\\\#) .avp-secondary-controls-end[_382ee1c3],#aniplayer_AV64e5bbb8f7555fbb940d8065-1698643567004:not(#\\\\#) .avp-secondary-controls-start[_382ee1c3]{cursor:auto;display:flex;flex-shrink:0;pointer-events:auto}#aniplayer_AV64e5bbb8f7555fbb940d8065-1698643567004:not(#\\\\#) .avp-vertical[_382ee1c3-h] .avp-secondary-controls-center[_382ee1c3],#aniplayer_AV64e5bbb8f7555fbb940d8065-1698643567004:not(#\\\\#) .avp-vertical[_382ee1c3-h] .avp-secondary-controls-end[_382ee1c3],#aniplayer_AV64e5bbb8f7555fbb940d8065-1698643567004:not(#\\\\#) .avp-vertical[_382ee1c3-h] .avp-secondary-controls-start[_382ee1c3]{flex-direction:column}#aniplayer_AV64e5bbb8f7555fbb940d8065-1698643567004:not(#\\\\#) .avp-horizontal[_382ee1c3-h] .avp-secondary-controls-end[_382ee1c3]{margin-left:auto}#aniplayer_AV64e5bbb8f7555fbb940d8065-1698643567004:not(#\\\\#) avp-secondary-middle-controls[_382ee1c3]{flex-shrink:0}#aniplayer_AV64e5bbb8f7555fbb940d8065-1698643567004:not(#\\\\#) .avp-secondary[_382ee184-h] .avp-default-icon[_382ee184]{stroke-width:2.5;-webkit-transform:scale(1.14);transform:scale(1.14)}#aniplayer_AV64e5bbb8f7555fbb940d8065-1698643567004:not(#\\\\#) .avp-animate-fill-opacity[_1a96284b]{fill-opacity:.1;transition:fill-opacity .2s;transition:fill-opacity var(--avp-transition-duration)}#aniplayer_AV64e5bbb8f7555fbb940d8065-1698643567004:not(#\\\\#) .avp-button.avp-active .avp-animate-fill-opacity[_1a96284b],#aniplayer_AV64e5bbb8f7555fbb940d8065-1698643567004:not(#\\\\#) .avp-button:hover .avp-animate-fill-opacity[_1a96284b]{fill-opacity:1}#aniplayer_AV64e5bbb8f7555fbb940d8065-1698643567004:not(#\\\\#) .avp-secondary[_382ee183-h] .avp-default-icon[_382ee183]{stroke-width:2.5;-webkit-transform:scale(1.12);transform:scale(1.12)}#aniplayer_AV64e5bbb8f7555fbb940d8065-1698643567004:not(#\\\\#) [_382ee1c1-h]{display:flex;flex-shrink:0;-webkit-user-select:none;user-select:none}#aniplayer_AV64e5bbb8f7555fbb940d8065-1698643567004:not(#\\\\#) .avp-dragging[_382ee1c1-h] avp-icon[_382ee1c1]:first-of-type,#aniplayer_AV64e5bbb8f7555fbb940d8065-1698643567004:not(#\\\\#) [_382ee1c1-h]:hover avp-icon[_382ee1c1]:first-of-type{opacity:0}#aniplayer_AV64e5bbb8f7555fbb940d8065-1698643567004:not(#\\\\#) .avp-dragging[_382ee1c1-h] avp-icon[_382ee1c1]:last-of-type,#aniplayer_AV64e5bbb8f7555fbb940d8065-1698643567004:not(#\\\\#) [_382ee1c1-h]:hover avp-icon[_382ee1c1]:last-of-type{opacity:1}#aniplayer_AV64e5bbb8f7555fbb940d8065-1698643567004:not(#\\\\#) .avp-horizontal[_382ee1c1-h]{height:24px;height:var(--avp-secondary-control-size)}#aniplayer_AV64e5bbb8f7555fbb940d8065-1698643567004:not(#\\\\#) .avp-horizontal[_382ee1c1-h] avp-volume-slider[_382ee1c1]{align-items:center;transition:width .2s cubic-bezier(.4,0,1,1);transition:width var(--avp-transition-duration) cubic-bezier(.4,0,1,1);width:0}#aniplayer_AV64e5bbb8f7555fbb940d8065-1698643567004:not(#\\\\#) .avp-horizontal[_382ee1c1-h] avp-volume-slider[_382ee1c1]:focus{width:57px;width:var(--avp-volume-slider-inline-size)}#aniplayer_AV64e5bbb8f7555fbb940d8065-1698643567004:not(#\\\\#) .avp-horizontal.avp-dragging[_382ee1c1-h] avp-volume-slider[_382ee1c1],#aniplayer_AV64e5bbb8f7555fbb940d8065-1698643567004:not(#\\\\#) .avp-horizontal[_382ee1c1-h]:hover avp-volume-slider[_382ee1c1]{transition:width .2s cubic-bezier(0,0,.2,1);transition:width var(--avp-transition-duration) cubic-bezier(0,0,.2,1);width:57px;width:var(--avp-volume-slider-inline-size)}#aniplayer_AV64e5bbb8f7555fbb940d8065-1698643567004:not(#\\\\#) .avp-vertical[_382ee1c1-h]{flex-direction:column;justify-content:flex-end;width:24px;width:var(--avp-secondary-control-size)}#aniplayer_AV64e5bbb8f7555fbb940d8065-1698643567004:not(#\\\\#) .avp-vertical[_382ee1c1-h] .avp-volume-button[_382ee1c1]{order:1}#aniplayer_AV64e5bbb8f7555fbb940d8065-1698643567004:not(#\\\\#) .avp-vertical[_382ee1c1-h] avp-volume-slider[_382ee1c1]{align-items:flex-end;height:0;justify-content:center;transition:height .2s linear;transition:height var(--avp-transition-duration) linear}#aniplayer_AV64e5bbb8f7555fbb940d8065-1698643567004:not(#\\\\#) .avp-vertical.avp-dragging[_382ee1c1-h] avp-volume-slider[_382ee1c1],#aniplayer_AV64e5bbb8f7555fbb940d8065-1698643567004:not(#\\\\#) .avp-vertical[_382ee1c1-h] avp-volume-slider[_382ee1c1]:focus,#aniplayer_AV64e5bbb8f7555fbb940d8065-1698643567004:not(#\\\\#) .avp-vertical[_382ee1c1-h]:hover avp-volume-slider[_382ee1c1]{height:57px;height:var(--avp-volume-slider-inline-size)}#aniplayer_AV64e5bbb8f7555fbb940d8065-1698643567004:not(#\\\\#) .avp-volume-button[_382ee1c1]{height:24px;height:var(--avp-secondary-control-size);padding:4px;padding:var(--avp-secondary-control-padding);position:relative;width:24px;width:var(--avp-secondary-control-size)}#aniplayer_AV64e5bbb8f7555fbb940d8065-1698643567004:not(#\\\\#) .avp-volume-button[_382ee1c1]:after{background:currentColor;box-shadow:1px 1px 2px rgba(0,0,0,.3);content:\"\";display:block;height:2px;left:4px;left:var(--avp-secondary-control-padding);position:absolute;top:3px;top:calc(var(--avp-secondary-control-padding) - 1px);-webkit-transform:rotate(45deg);transform:rotate(45deg);-webkit-transform-origin:left center;transform-origin:left center;transition:width .2s;transition:width var(--avp-transition-duration);width:0}#aniplayer_AV64e5bbb8f7555fbb940d8065-1698643567004:not(#\\\\#) .avp-muted .avp-volume-button[_382ee1c1]:after{width:22.6272px;width:calc((var(--avp-secondary-control-size) - (var(--avp-secondary-control-padding)*2))*1.4142)}#aniplayer_AV64e5bbb8f7555fbb940d8065-1698643567004:not(#\\\\#) avp-icon[_382ee1c1]{height:16px;height:calc(var(--avp-secondary-control-size) - var(--avp-secondary-control-padding)*2);width:16px;width:calc(var(--avp-secondary-control-size) - var(--avp-secondary-control-padding)*2)}#aniplayer_AV64e5bbb8f7555fbb940d8065-1698643567004:not(#\\\\#) avp-icon[_382ee1c1]:first-of-type,#aniplayer_AV64e5bbb8f7555fbb940d8065-1698643567004:not(#\\\\#) avp-icon[_382ee1c1]:last-of-type{left:0;margin:4px;margin:var(--avp-secondary-control-padding);position:absolute;top:0;transition:opacity .2s;transition:opacity var(--avp-transition-duration)}#aniplayer_AV64e5bbb8f7555fbb940d8065-1698643567004:not(#\\\\#) avp-icon[_382ee1c1]:first-of-type{opacity:1}#aniplayer_AV64e5bbb8f7555fbb940d8065-1698643567004:not(#\\\\#) avp-icon[_382ee1c1]:last-of-type{opacity:0}#aniplayer_AV64e5bbb8f7555fbb940d8065-1698643567004:not(#\\\\#) [_382ee1ab-h]{cursor:pointer;display:flex;margin-left:0;overflow:hidden;position:relative;z-index:1}#aniplayer_AV64e5bbb8f7555fbb940d8065-1698643567004:not(#\\\\#) .avp-muted [_382ee1ab-h]{color:hsla(0,0%,100%,.4)}#aniplayer_AV64e5bbb8f7555fbb940d8065-1698643567004:not(#\\\\#) .avp-horizontal[_382ee1ab-h]{touch-action:pan-x;width:57px;width:var(--avp-volume-slider-inline-size)}#aniplayer_AV64e5bbb8f7555fbb940d8065-1698643567004:not(#\\\\#) .avp-horizontal[_382ee1ab-h] .avp-volume-range[_382ee1ab]{height:3px;height:var(--avp-volume-slider-block-size);width:inherit}#aniplayer_AV64e5bbb8f7555fbb940d8065-1698643567004:not(#\\\\#) .avp-horizontal[_382ee1ab-h] .avp-volume-range[_382ee1ab]:before{height:3px;height:var(--avp-volume-slider-block-size);width:57px;width:calc(var(--avp-volume-slider-volume)*var(--avp-volume-slider-inline-size))}#aniplayer_AV64e5bbb8f7555fbb940d8065-1698643567004:not(#\\\\#) .avp-horizontal[_382ee1ab-h] .avp-volume-thumb[_382ee1ab]{left:0;top:-3.5px;top:calc((var(--avp-volume-slider-block-size) - var(--avp-volume-thumb-diameter))/2);-webkit-transform:translateX(47px);transform:translateX(47px);-webkit-transform:translateX(calc(var(--avp-volume-slider-volume)*(var(--avp-volume-slider-inline-size) - var(--avp-volume-thumb-diameter))));transform:translateX(calc(var(--avp-volume-slider-volume)*(var(--avp-volume-slider-inline-size) - var(--avp-volume-thumb-diameter))))}#aniplayer_AV64e5bbb8f7555fbb940d8065-1698643567004:not(#\\\\#) .avp-muted .avp-horizontal[_382ee1ab-h] .avp-volume-thumb[_382ee1ab]{-webkit-transform:translateX(0);transform:translateX(0)}#aniplayer_AV64e5bbb8f7555fbb940d8065-1698643567004:not(#\\\\#) .avp-vertical[_382ee1ab-h]{height:57px;height:var(--avp-volume-slider-inline-size);touch-action:pan-y}#aniplayer_AV64e5bbb8f7555fbb940d8065-1698643567004:not(#\\\\#) .avp-vertical[_382ee1ab-h] .avp-volume-range[_382ee1ab]{height:inherit;width:3px;width:var(--avp-volume-slider-block-size)}#aniplayer_AV64e5bbb8f7555fbb940d8065-1698643567004:not(#\\\\#) .avp-vertical[_382ee1ab-h] .avp-volume-range[_382ee1ab]:before{height:57px;height:calc(var(--avp-volume-slider-volume)*var(--avp-volume-slider-inline-size));width:3px;width:var(--avp-volume-slider-block-size)}#aniplayer_AV64e5bbb8f7555fbb940d8065-1698643567004:not(#\\\\#) .avp-vertical[_382ee1ab-h] .avp-volume-thumb[_382ee1ab]{bottom:0;left:-3.5px;left:calc((var(--avp-volume-slider-block-size) - var(--avp-volume-thumb-diameter))/2);-webkit-transform:translateY(-47px);transform:translateY(-47px);-webkit-transform:translateY(calc(var(--avp-volume-slider-volume)*(var(--avp-volume-thumb-diameter) - var(--avp-volume-slider-inline-size))));transform:translateY(calc(var(--avp-volume-slider-volume)*(var(--avp-volume-thumb-diameter) - var(--avp-volume-slider-inline-size))))}#aniplayer_AV64e5bbb8f7555fbb940d8065-1698643567004:not(#\\\\#) .avp-muted .avp-vertical[_382ee1ab-h] .avp-volume-thumb[_382ee1ab]{-webkit-transform:translateY(0);transform:translateY(0)}#aniplayer_AV64e5bbb8f7555fbb940d8065-1698643567004:not(#\\\\#) .avp-volume-range[_382ee1ab]{background-color:hsla(0,0%,100%,.4);border-radius:3px;border-radius:var(--avp-volume-slider-block-size);position:relative}#aniplayer_AV64e5bbb8f7555fbb940d8065-1698643567004:not(#\\\\#) .avp-volume-range[_382ee1ab]:before{background:currentColor;border-radius:inherit;bottom:0;content:\"\";display:block;left:0;position:absolute}#aniplayer_AV64e5bbb8f7555fbb940d8065-1698643567004:not(#\\\\#) .avp-volume-thumb[_382ee1ab]{background-color:#fff;border-radius:50%;height:10px;height:var(--avp-volume-thumb-diameter);position:absolute;width:10px;width:var(--avp-volume-thumb-diameter)}#aniplayer_AV64e5bbb8f7555fbb940d8065-1698643567004:not(#\\\\#) [_1a962852-h]{--avp-secondary-control-size:calc(var(--avp-caption-height) - var(--avp-close-button-overlay-bottom));--avp-secondary-control-padding:var(--avp-caption-padding);align-items:flex-end;color:#000;display:flex;flex:1;overflow:hidden;width:480px;width:var(--avp-view-width)}#aniplayer_AV64e5bbb8f7555fbb940d8065-1698643567004:not(#\\\\#) .avp-playlist-visible [_1a962852-h]{width:auto;width:var(--avp-main-width)}#aniplayer_AV64e5bbb8f7555fbb940d8065-1698643567004:not(#\\\\#) .avp-fixed.avp-bottom [_1a962852-h],#aniplayer_AV64e5bbb8f7555fbb940d8065-1698643567004:not(#\\\\#) .avp-fixed.avp-bottom-center [_1a962852-h],#aniplayer_AV64e5bbb8f7555fbb940d8065-1698643567004:not(#\\\\#) .avp-fixed.avp-top [_1a962852-h],#aniplayer_AV64e5bbb8f7555fbb940d8065-1698643567004:not(#\\\\#) .avp-fixed.avp-top-center [_1a962852-h]{width:100%}#aniplayer_AV64e5bbb8f7555fbb940d8065-1698643567004:not(#\\\\#) [_1a962852-h] path{stroke-width:2px}#aniplayer_AV64e5bbb8f7555fbb940d8065-1698643567004:not(#\\\\#) .avp-caption-title[_1a962852]{align-items:center;display:flex;font-size:12px;justify-content:center;line-height:24px;line-height:var(--avp-caption-height);min-width:0;padding:0 5px;padding:0 var(--avp-caption-padding);white-space:nowrap;width:100%}#aniplayer_AV64e5bbb8f7555fbb940d8065-1698643567004:not(#\\\\#) .avp-caption-title-text[_1a962852]{line-height:inherit;overflow:hidden;text-overflow:ellipsis;width:100%}#aniplayer_AV64e5bbb8f7555fbb940d8065-1698643567004:not(#\\\\#) [_1a962851-h]{flex-shrink:0;margin:-30px -29px -24px -30px;margin:calc(var(--avp-close-button-overlay-top) - var(--avp-close-button-overlay-margin)) calc(var(--avp-close-button-overlay-right) - var(--avp-close-button-overlay-margin)) calc(var(--avp-close-button-overlay-bottom) - var(--avp-close-button-overlay-margin)) calc(var(--avp-close-button-overlay-left) - var(--avp-close-button-overlay-margin));padding:30px;padding:var(--avp-close-button-overlay-margin)}#aniplayer_AV64e5bbb8f7555fbb940d8065-1698643567004:not(#\\\\#) [_382ee148-h]{height:100%;left:0;pointer-events:none;position:absolute;top:0;visibility:hidden;width:100%}#aniplayer_AV64e5bbb8f7555fbb940d8065-1698643567004:not(#\\\\#) .avp-active[_382ee148-h]{visibility:visible}#aniplayer_AV64e5bbb8f7555fbb940d8065-1698643567004:not(#\\\\#) img[_382ee148]{height:100%;object-fit:cover;width:100%}ADVERTISEMENTAds by#nonl-container *{display:block}#av-caption #av-close-btn:hover,#av-container #av-inner #gui #av-close-btn:hover,#av-container.av-desktop #av-inner #gui #close-btn:hover,#av-container.av-desktop #av-inner #gui #skip-btn:hover{background-color:#000;background-color:rgba(0,0,0,.7);cursor:pointer}#av-caption #av-close-btn,#av-container #av-inner #gui #av-close-btn,#av-container #av-inner #gui #close-btn{background-color:#323232;background-color:rgba(0,0,0,.4);background-image:url(\"data:image/svg+xml;charset=utf-8,%3Csvg xmlns=%27http://www.w3.org/2000/svg%27 xml:space=%27preserve%27 width=%2723%27 height=%2723%27 viewBox=%270 0 22.677 22.677%27%3E%3Cpath fill=%27%23fff%27 fill-rule=%27evenodd%27 d=%27m19.346 5.421-2.09-2.089-5.918 5.918L5.42 3.332 3.332 5.421l5.918 5.917-5.918 5.919 2.088 2.088 5.918-5.918 5.918 5.918 2.09-2.088-5.918-5.919z%27 clip-rule=%27evenodd%27/%3E%3C/svg%3E\");background-position:50%;background-repeat:no-repeat;background-size:60%;border-color:#fff;border-style:solid;border-width:0 1px 1px 0;height:28px;left:0;position:absolute;top:0;-webkit-transition:all .15s ease-in-out;-moz-transition:all .15s ease-in-out;-o-transition:all .15s ease-in-out;transition:all .15s ease-in-out;width:28px;z-index:9999999}#av-caption #av-close-btn,#av-container #av-inner #gui #av-close-btn{border:none;height:18px;position:static;width:18px}#av-caption{line-height:18px;position:relative;text-align:center}#av-caption #av-close-btn-overlay{display:inline-block;position:relative;vertical-align:top;z-index:9999999}#av-label{color:#bbb;display:inline-block;font-family:Helvetica,Arial,fallback,sans-serif;font-size:9px;line-height:10px;margin:0;padding:4px;text-align:center;text-transform:uppercase;vertical-align:top;z-index:83}#av-container{height:360px;margin:0;overflow:hidden;pointer-events:auto;position:relative;text-align:initial;width:640px}#av-container ::-webkit-media-controls-panel{-webkit-appearance:none;display:none!important}#av-container ::--webkit-media-controls-play-button{-webkit-appearance:none;display:none!important}#av-container ::-webkit-media-controls-start-playback-button{-webkit-appearance:none;display:none!important}#av-container div{position:static}#av-container #av-inner{height:100%;left:0;position:absolute;top:0;width:100%}#av-container #av-inner #slot{-webkit-box-shadow:inset 0 0 0 1px rgba(0,0,0,.1);-moz-box-shadow:inset 0 0 0 1px rgba(0,0,0,.1);box-shadow:inset 0 0 0 1px rgba(0,0,0,.1);height:100%;position:absolute;width:100%}#av-container #av-inner #slot #preloader{bottom:0;height:0;left:0;margin:auto;outline:none;position:absolute;right:0;top:0;width:0}#av-container #av-inner #slot #preloader svg{left:50%;position:absolute;top:50%}#av-container #av-inner #slot #preloader svg.avicon{fill:#fff;height:50px;margin-left:-25px;margin-top:-25px;width:50px}#av-container #av-inner #slot #preloader svg.avcircle{fill:transparent;stroke:hsla(0,0%,100%,.2);stroke-width:3;height:70px;margin-left:-35px;margin-top:-35px;width:70px}#av-container #av-inner #slot #preloader svg.avcircle.active{stroke:#fff;stroke-linecap:round;animation:av-loading-dash 2s ease infinite,av-loading-rotate 2.5s linear infinite;color:red}#av-container #av-inner #slot #videoslot{bottom:0;filter:alpha(opacity=0);left:0;object-fit:fill;opacity:0;position:absolute;right:0;text-align:left;top:50%;-webkit-transform:translateY(-50%);-ms-transform:translateY(-50%);transform:translateY(-50%);width:100%}#av-container #av-inner #slot #videoslot.loaded{-webkit-animation:fade-in .5s ease;-moz-animation:fade-in .5s ease;-o-animation:fade-in .5s ease;animation:fade-in .5s ease;filter:alpha(opacity=100);opacity:1}#av-container #av-inner #slot #videoslot div{all:initial;background:initial;position:static;z-index:auto}#av-container #av-inner #gui:before{background:-webkit-linear-gradient(top,transparent,rgba(0,0,0,.5));background:-moz-linear-gradient(top,transparent 0,rgba(0,0,0,.5) 100%);background:linear-gradient(180deg,transparent 0,rgba(0,0,0,.5));bottom:0;content:\"\";filter:progid:DXImageTransform.Microsoft.gradient(startColorstr=\"#00000000\",endColorstr=\"#80000000\",GradientType=0);height:15%;left:0;pointer-events:none;width:100%}#av-container #av-inner #gui #timeline,#av-container #av-inner #gui:before{position:absolute;-webkit-transition:all .15s ease-in-out;-moz-transition:all .15s ease-in-out;-o-transition:all .15s ease-in-out;transition:all .15s ease-in-out}#av-container #av-inner #gui #timeline{cursor:pointer;height:10px;overflow:hidden}#av-container #av-inner #gui #timeline #timeline-buffer,#av-container #av-inner #gui #timeline #timeline-moveto,#av-container #av-inner #gui #timeline #timeline-progress,#av-container #av-inner #gui #timeline:before{height:2px;left:0;position:absolute}#av-container #av-inner #gui #timeline:before{background:#646464;background:hsla(0,0%,100%,.3);content:\"\";width:100%}#av-container #av-inner #gui #timeline #timeline-buffer,#av-container #av-inner #gui #timeline:before{-webkit-box-shadow:0 0 3px 0 rgba(0,0,0,.1);-moz-box-shadow:0 0 3px 0 rgba(0,0,0,.1);box-shadow:0 0 3px 0 rgba(0,0,0,.1)}#av-container #av-inner #gui #timeline #timeline-buffer{background:#b4b4b4;background:hsla(0,0%,100%,.5);width:0}#av-container #av-inner #gui #timeline #timeline-moveto{background:#fff;background:hsla(0,0%,100%,.8);opacity:0;width:0}#av-container #av-inner #gui #timeline #timeline-progress{background:red;width:0}#av-container #av-inner #gui #timeline.av-overlay{bottom:41px;left:10px;right:10px}#av-container #av-inner #gui #timeline.av-overlay #timeline-buffer,#av-container #av-inner #gui #timeline.av-overlay #timeline-moveto,#av-container #av-inner #gui #timeline.av-overlay #timeline-progress,#av-container #av-inner #gui #timeline.av-overlay:before{margin-top:-1px;top:50%}#av-container #av-inner #gui #timeline.av-bottom{bottom:0;left:0;right:0}#av-container #av-inner #gui #timeline.av-bottom #timeline-buffer,#av-container #av-inner #gui #timeline.av-bottom #timeline-moveto,#av-container #av-inner #gui #timeline.av-bottom #timeline-progress,#av-container #av-inner #gui #timeline.av-bottom:before{bottom:0;top:auto}#av-container #av-inner #gui #timeline.av-top{left:0;right:0;top:0}#av-container #av-inner #gui #timeline.av-top #timeline-buffer,#av-container #av-inner #gui #timeline.av-top #timeline-moveto,#av-container #av-inner #gui #timeline.av-top #timeline-progress,#av-container #av-inner #gui #timeline.av-top:before{bottom:auto;top:0}#av-container #av-inner #gui #timeline.av-top~#skip-btn{top:2px}#av-container #av-inner #gui #timeline.av-top~#aniview-credit{top:4px}#av-container #av-inner #gui #timeline.av-none{display:none!important;opacity:0!important}#av-container #av-inner #gui #buttons{bottom:0;display:flex;justify-content:space-between;left:0;padding:0 13px 11px;position:absolute;right:0;-webkit-transition:all .15s ease-in-out;-moz-transition:all .15s ease-in-out;-o-transition:all .15s ease-in-out;transition:all .15s ease-in-out}#av-container #av-inner #gui #buttons.av-left{justify-content:flex-start}#av-container #av-inner #gui #buttons.av-left #play-pause{margin-right:0}#av-container #av-inner #gui #buttons #play-pause:after,#av-container #av-inner #gui #buttons #sound:after{bottom:-10px;content:\"\";left:-10px;position:absolute;right:-10px;top:-10px}#av-container #av-inner #gui #buttons #fullscreen,#av-container #av-inner #gui #buttons #phone,#av-container #av-inner #gui #buttons #play-pause,#av-container #av-inner #gui #buttons #share,#av-container #av-inner #gui #buttons #sound{background-repeat:no-repeat;background-size:cover;height:24px;width:24px}#av-container #av-inner #gui #buttons #left,#av-container #av-inner #gui #buttons #right{height:24px}#av-container #av-inner #gui #buttons #left>div{float:left;margin-right:14px;position:relative}#av-container #av-inner #gui #buttons #left #play-pause.play{background-image:url(\"data:image/svg+xml;charset=utf-8,%3Csvg xmlns=%27http://www.w3.org/2000/svg%27 xml:space=%27preserve%27 width=%2723%27 height=%2723%27 viewBox=%270 0 22.677 22.677%27%3E%3Cpath fill=%27%23fff%27 d=%27M19.343 11.251c-.035-.439-.334-.874-.902-1.207L7.536 3.641c-1.211-.712-2.203-.138-2.203 1.275v7.463c5.85-2.36 13.783-1.163 14.01-1.128zM5.333 17v.762c0 1.412.992 1.985 2.203 1.273l10.904-6.402c.643-.377.941-.882.902-1.379-8.65.696-12.404 3.614-14.009 5.746z%27/%3E%3C/svg%3E\")}#av-container #av-inner #gui #buttons #left #play-pause.pause{background-image:url(\"data:image/svg+xml;charset=utf-8,%3Csvg xmlns=%27http://www.w3.org/2000/svg%27 xml:space=%27preserve%27 width=%2723%27 height=%2723%27 viewBox=%270 0 22.677 22.677%27%3E%3Cpath fill=%27%23fff%27 d=%27M4.338 19.339h5v-16h-5v16zm9.001-16.001v16h5v-16h-5z%27/%3E%3C/svg%3E\")}#av-container #av-inner #gui #buttons #left #play-pause.replay{background-image:url(\"data:image/svg+xml;charset=utf-8,%3Csvg xmlns=%27http://www.w3.org/2000/svg%27 xml:space=%27preserve%27 width=%2723%27 height=%2723%27 viewBox=%270 0 22.677 22.677%27%3E%3Cpath fill=%27%23fff%27 d=%27M16.672 11.339a5.334 5.334 0 0 1-10.668 0 5.334 5.334 0 0 1 5.326-5.333v2.336l7.016-3.503-7.016-3.503V3.34a8 8 0 0 0 .008 15.999 8 8 0 0 0 8-8h-2.666z%27/%3E%3C/svg%3E\")}#av-container #av-inner #gui #buttons #left #phone{font-size:0;width:auto}#av-container #av-inner #gui #buttons #left #phone .avicon{background-image:url(\"data:image/svg+xml;charset=utf-8,%3Csvg xmlns=%27http://www.w3.org/2000/svg%27 xml:space=%27preserve%27 width=%2723%27 height=%2723%27 viewBox=%270 0 22.677 22.677%27%3E%3Cpath fill=%27%23fff%27 fill-rule=%27evenodd%27 d=%27M20.154 17.236c.299-.298.254-.921-.236-1.188-.492-.267-4.518-2.602-4.982-2.138-.463.465-1.447 1.498-2.135 1.188s-2.289-1.816-2.846-2.375c-.559-.557-2.064-2.159-2.377-2.847-.31-.687.725-1.67 1.188-2.134.464-.465-1.87-4.491-2.137-4.982-.266-.489-.889-.534-1.188-.237s-2.18 2.176-2.85 2.847c-.671.671-.279 5.415 4.514 10.202 4.787 4.792 9.531 5.185 10.203 4.514.671-.671 2.549-2.551 2.846-2.85z%27 clip-rule=%27evenodd%27/%3E%3C/svg%3E\");background-repeat:no-repeat;background-size:cover;display:inline-block;height:24px;vertical-align:top;width:24px}#av-container #av-inner #gui #buttons #left #phone #phone-num{color:#fff;display:inline-block;font-family:Helvetica,Arial,fallback,sans-serif;font-size:12px;font-weight:400;height:24px;line-height:24px;margin-left:4px}#av-container #av-inner #gui #buttons #right>div{float:right;margin-left:14px;position:relative}#av-container #av-inner #gui #buttons #right #sound{background-image:url(\"data:image/svg+xml;charset=utf-8,%3Csvg xmlns=%27http://www.w3.org/2000/svg%27 xml:space=%27preserve%27 width=%2723%27 height=%2723%27 viewBox=%270 0 22.68 22.68%27%3E%3Cpath fill=%27%23fff%27 fill-rule=%27evenodd%27 d=%27M7.247 7.34H1.761v8h5.486l5.496 4.006V3.334z%27 clip-rule=%27evenodd%27/%3E%3C/svg%3E\")}#av-container #av-inner #gui #buttons #right #sound div{background-repeat:no-repeat;background-size:cover;height:100%;left:0;position:absolute;top:0;width:100%}#av-container #av-inner #gui #buttons #right #sound div.on{background-image:url(\"data:image/svg+xml;charset=utf-8,%3Csvg xmlns=%27http://www.w3.org/2000/svg%27 xml:space=%27preserve%27 width=%2723%27 height=%2723%27 viewBox=%270 0 22.677 22.677%27%3E%3Cpath fill=%27%23fff%27 d=%27m17.808 4.757-1.705 1.881c1.357 1.146 2.221 2.824 2.221 4.7s-.863 3.556-2.221 4.701l1.705 1.881c1.902-1.605 3.109-3.955 3.109-6.582 0-2.626-1.207-4.975-3.109-6.581z%27/%3E%3C/svg%3E\")}#av-container #av-inner #gui #buttons #right #sound div.off{background-image:url(\"data:image/svg+xml;charset=utf-8,%3Csvg xmlns=%27http://www.w3.org/2000/svg%27 xml:space=%27preserve%27 width=%2723%27 height=%2723%27 viewBox=%270 0 22.677 22.677%27%3E%3Cpath fill=%27red%27 fill-rule=%27evenodd%27 d=%27m20.009 11.337 2.662-2.663-1.328-1.329-2.664 2.662-2.664-2.662-1.33 1.329 2.664 2.663-2.668 2.666 1.334 1.328 2.664-2.665 2.664 2.665 1.334-1.328z%27 clip-rule=%27evenodd%27/%3E%3C/svg%3E\")}#av-container #av-inner #gui #buttons #right #share{background-image:url(\"data:image/svg+xml;charset=utf-8,%3Csvg xmlns=%27http://www.w3.org/2000/svg%27 xml:space=%27preserve%27 width=%2723%27 height=%2723%27 viewBox=%270 0 22.677 22.677%27%3E%3Cpath fill=%27%23fff%27 fill-rule=%27evenodd%27 d=%27M17.338 14.339a2.97 2.97 0 0 0-1.838.645l-7.17-3.567c0-.026.008-.051.008-.078 0-.026-.008-.052-.008-.078l7.17-3.566c.51.397 1.143.645 1.838.645a3 3 0 1 0-3-3c0 .188.023.372.057.552L7.531 9.304a2.982 2.982 0 0 0-2.193-.966 3 3 0 0 0 0 6c.869 0 1.645-.375 2.193-.965l6.863 3.412a3.05 3.05 0 0 0-.057.553 3.001 3.001 0 0 0 6 0 3 3 0 0 0-2.999-2.999z%27 clip-rule=%27evenodd%27/%3E%3C/svg%3E\")}#av-container #av-inner #gui #buttons #right #fullscreen.off{background-image:url(\"data:image/svg+xml;charset=utf-8,%3Csvg xmlns=%27http://www.w3.org/2000/svg%27 xml:space=%27preserve%27 width=%2723%27 height=%2723%27 viewBox=%270 0 22.677 22.677%27%3E%3Cpath fill=%27%23fff%27 d=%27M4.339 15.339h-2v5h5v-2h-3v-3zm-2-8.001h2v-3h3v-2h-5v5zm13-5v2h3v3h2v-5h-5zm3 16.001h-3v2h5v-5h-2v3z%27/%3E%3C/svg%3E\")}#av-container #av-inner #gui #buttons #right #fullscreen.on{background-image:url(\"data:image/svg+xml;charset=utf-8,%3Csvg xmlns=%27http://www.w3.org/2000/svg%27 xml:space=%27preserve%27 width=%2723%27 height=%2723%27 viewBox=%270 0 22.677 22.677%27%3E%3Cpath fill=%27%23fff%27 d=%27M6.338 6.338h-3v2h5v-5h-2v3zm-3 10.001h3v3h2v-5h-5v2zm11 3h2v-3h3v-2h-5v5zm2-13.001v-3h-2v5h5v-2h-3z%27/%3E%3C/svg%3E\")}#av-container #av-inner #gui #big-play{background-color:#323232;background-color:rgba(0,0,0,.4);background-image:url(\"data:image/svg+xml;charset=utf-8,%3Csvg xmlns=%27http://www.w3.org/2000/svg%27 xml:space=%27preserve%27 width=%2723%27 height=%2723%27 viewBox=%270 0 22.677 22.677%27%3E%3Cpath fill=%27%23fff%27 d=%27M19.343 11.251c-.035-.439-.334-.874-.902-1.207L7.536 3.641c-1.211-.712-2.203-.138-2.203 1.275v7.463c5.85-2.36 13.783-1.163 14.01-1.128zM5.333 17v.762c0 1.412.992 1.985 2.203 1.273l10.904-6.402c.643-.377.941-.882.902-1.379-8.65.696-12.404 3.614-14.009 5.746z%27/%3E%3C/svg%3E\");background-position:16px;background-repeat:no-repeat;background-size:62% 64%;border:3px solid #fff;border-radius:50%;display:none;height:68px;left:50%;margin-left:-34px;margin-top:-34px;position:absolute;top:50%;-webkit-transition:all .15s ease-in-out;-moz-transition:all .15s ease-in-out;-o-transition:all .15s ease-in-out;transition:all .15s ease-in-out;width:68px}#av-container #av-inner #gui #timer{background-color:#000;background-color:rgba(0,0,0,.7);border-color:#fff;border-style:solid;border-width:0 1px 1px 0;font-size:12px;height:28px;left:0;line-height:28px;top:0;width:28px}#av-container #av-inner #gui #skip-btn,#av-container #av-inner #gui #timer{color:#fff;font-family:Helvetica,Arial,fallback,sans-serif;position:absolute;text-align:center;-webkit-transition:all .15s ease-in-out;-moz-transition:all .15s ease-in-out;-o-transition:all .15s ease-in-out;transition:all .15s ease-in-out}#av-container #av-inner #gui #skip-btn{background-color:#323232;background-color:rgba(0,0,0,.4);border:1px solid #fff;border-right-width:0;bottom:60px;font-size:14px;height:32px;line-height:32px;padding:0 12px;right:0;text-transform:uppercase}#av-container #av-inner #gui #aniview-credit{color:#fff;font-family:Helvetica,Arial,fallback,sans-serif;font-size:11px;font-weight:500;height:24px;line-height:24px;position:absolute;right:2px;top:2px}#av-container #av-inner #gui #aniview-credit span{background-image:url(\"data:image/svg+xml;charset=utf-8,%3Csvg xmlns=%27http://www.w3.org/2000/svg%27 xml:space=%27preserve%27 width=%2723%27 height=%2723%27 viewBox=%270 0 22.677 22.677%27%3E%3Cpath fill=%27red%27 d=%27M19.343 11.251c-.035-.439-.334-.874-.902-1.207L7.536 3.641c-1.211-.712-2.203-.138-2.203 1.275v7.463c5.85-2.36 13.783-1.163 14.01-1.128zM5.333 17v.762c0 1.412.992 1.985 2.203 1.273l10.904-6.402c.643-.377.941-.882.902-1.379-8.65.696-12.404 3.614-14.009 5.746z%27/%3E%3C/svg%3E\");background-repeat:no-repeat;background-size:cover;display:inline-block;height:24px;vertical-align:top;width:24px}#av-container.av-desktop #av-inner #gui #big-play{border-color:#ccc}#av-container.av-desktop #gui:before{bottom:-15%}#av-container.av-desktop #gui #buttons,#av-container.av-desktop #gui #timeline,#av-container.av-desktop #gui:before{filter:alpha(opacity=0);opacity:0}#av-container.av-desktop:hover #av-inner #gui #big-play{background-color:#000;background-color:rgba(0,0,0,.7);border-color:#fff}#av-container.av-desktop:hover #gui:before{bottom:0}#av-container.av-desktop #av-inner #gui #timeline:hover #timeline-moveto,#av-container.av-desktop:hover #gui #buttons,#av-container.av-desktop:hover #gui #timeline,#av-container.av-desktop:hover #gui:before{filter:alpha(opacity=100);opacity:1}#av-container.av-responsive{height:520px;width:100%}#av-container.hide-controls #av-inner #gui:before,#av-container.hide-controls #buttons,#av-container.hide-controls #timeline{display:none}#av-container.buttons-below #av-inner #slot #videoslot{top:0;-webkit-transform:none;transform:none}#av-container #videoslot video{max-width:none}#av-container #slot video{object-fit:contain}@-webkit-keyframes \"fade-in\"{0%{filter:alpha(opacity=0);opacity:0}to{filter:alpha(opacity=100);opacity:1}}@-moz-keyframes \"fade-in\"{0%{filter:alpha(opacity=0);opacity:0}to{filter:alpha(opacity=100);opacity:1}}@-o-keyframes fade-in{0%{filter:alpha(opacity=0);opacity:0}to{filter:alpha(opacity=100);opacity:1}}@keyframes \"fade-in\"{0%{filter:alpha(opacity=0);opacity:0}to{filter:alpha(opacity=100);opacity:1}}@-webkit-keyframes \"av-loading-dash\"{0%{stroke-dasharray:1,210;stroke-dashoffset:0}50%{stroke-dasharray:130,220;stroke-dashoffset:-50}to{stroke-dasharray:170,220;stroke-dashoffset:-210}}@-moz-keyframes \"av-loading-dash\"{0%{stroke-dasharray:1,210;stroke-dashoffset:0}50%{stroke-dasharray:130,220;stroke-dashoffset:-50}to{stroke-dasharray:170,220;stroke-dashoffset:-210}}@-o-keyframes av-loading-dash{0%{stroke-dasharray:1,210;stroke-dashoffset:0}50%{stroke-dasharray:130,220;stroke-dashoffset:-50}to{stroke-dasharray:170,220;stroke-dashoffset:-210}}@keyframes \"av-loading-dash\"{0%{stroke-dasharray:1,210;stroke-dashoffset:0}50%{stroke-dasharray:130,220;stroke-dashoffset:-50}to{stroke-dasharray:170,220;stroke-dashoffset:-210}}@-webkit-keyframes \"av-loading-rotate\"{0%{stroke:#fff;-webkit-transform:rotate(0deg);transform:rotate(0deg)}to{stroke:currentColor;-webkit-transform:rotate(1turn);transform:rotate(1turn)}}@-moz-keyframes \"av-loading-rotate\"{0%{stroke:#fff;-webkit-transform:rotate(0deg);transform:rotate(0deg)}to{stroke:currentColor;-webkit-transform:rotate(1turn);transform:rotate(1turn)}}@-o-keyframes av-loading-rotate{0%{stroke:#fff;-webkit-transform:rotate(0deg);transform:rotate(0deg)}to{stroke:currentColor;-webkit-transform:rotate(1turn);transform:rotate(1turn)}}@keyframes \"av-loading-rotate\"{0%{stroke:#fff;-webkit-transform:rotate(0deg);transform:rotate(0deg)}to{stroke:currentColor;-webkit-transform:rotate(1turn);transform:rotate(1turn)}} .AV64e5bbb8f7555fbb940d8065 #aniBox {margin-top: 05px;}SkipAds by\\n\\nUpgrade\\n\\nMy Feed\\n\\nMarketsHOMEINDIAN INDICESSTOCK ACTIONAll StatsTop GainersTop LosersOnly BuyersOnly Sellers52 Week High52 Week LowPrice ShockersVolume ShockersMost Active StocksGLOBAL MARKETSUS MARKETSBIG SHARK PORTFOLIOSECONOMIC CALENDARMARKET ACTIONDashboardF&OFII & DII ActivityCorporate ActionEARNINGSCOMMODITYPRE MARKETRESEARCHAdviceBroker ResearchTechnicalsCURRENCYWEBINARINTERVIEW SERIESIPOOTHERSBondsCryptocurrencyToolsNewsHOMEPAGEBUSINESSHomeEconomyCompaniesMutual FundsPersonal FinanceIPOStartupsReal EstateSMEGEOGRAPHYIndiaWorldMARKETSHomeStocksTechnical AnalysisEquity ResearchCommodityCurrencyGold RateSilver RateSPECIALTrendsLatest NewsOpinionTECHNOLOGYPersonal TechAutoFintechMEDIAPodcastPhotosInfographicsVideosOTHERSMC LearnPoliticsCricketEntertainmentTravelLifestyleHealth and FitnessEducationScienceBooksMC BuzzMC FeaturesTech/StartupsPortfolioWatchlistCommoditiesMutual FundsEXPLOREHomeFind FundTop Ranked FundsPerformance TrackerSIP Performance TrackerETF PerformanceNFOTop Performing CategoriesLearnTOOLSReturns CalculatorLumpsum SIP BalancerDelay Cost CalculatorSIP ReturnMF FORUMTRACKYour MF InvestmentMF PricesMC 30Personal FinanceEXPLOREHomeInvestingInsuranceBankingFinancial PlanningPropertyToolsVideoAsk ExpertExplainerIncome Tax Filing GuideNPSFIXED DEPOSITFixed Deposit Interest CalculatorCorporate DepositsTAXIncome tax Filing GuideIncome Tax CalculatorEmergency Fund CalculatorLOANS & CREDIT CARDSHomeCar Loan CalculatorHome Loan CalculatorEducation Loan CalculatorCredit Card Debit Payoff CalculatorTOOLSProvident Fund CalculatorAssets Allocation PlanningDebt Reduction PlannerDebt Evaluation CalculatorCurrent Expense CalculatorMC 30MC HEALTH INSURANCE RATINGSGOLD PRICE TODAYCREDIT SCOREUpcoming Chat | Previous TranscriptsAll Schedule | Previous TranscriptForumEXPLORE FORUMHomepageMembership RulesForum TopicsAsk the ExpertTop BoardersUSER PROFILEFORUM TOPICSLatest ThreadsStocksIndexGoldPersonal FinanceJust PostedMF FORUMPOLLSLatest PollsHistorical PollsMarket SentimentsSUPPORTFAQsCode of ConductFeedbackWrite to usVideosVIDEOSHomepageVideos on DemandMarkets with Santo & CJMorning TradeCommodities chat with Manisha GuptaLet`s Talk JobsThe TenantDrive ReportBajar GupshupBits To BillionsPODCASTHomepagePodcast on DemandThe Week on Dalal StreetMarket MinutesMC Special PodcastSimply SavePolicy TalksLIVE TVHindiGujaratiInvest Now.investNW .sepInvsli a.pdg_btm{ padding-bottom: 46px; }\\n\\t\\t.header_desktop.header1024 .investNW .sepInvsli a.pdg_btm{padding-bottom: 0px;}\\n\\t\\t@media screen and (max-width:1279px) { \\n\\t\\t\\t.investNW .sepInvsli a.pdg_btm{ padding-bottom: 0px; } \\n\\t\\t}Invest in bonds onlinePowered By Invest in high-rated bonds from as low as Rs. 10,000Find & Invest in bonds issued by top corporates, PSU Banks, NBFCs, and much more. Invest as low as 10,000 and earn better returns than FDInvest NowExpert Trading GuidancePowered By Trading Advisories, Courses & Webinars by Top Verified Experts.Unlock Your Trading Potential: Trade like Experts with SEBI registered creators, Learn from Courses & Webinars by India\\'s Finest Finance Experts.Invest NowSubscriptionAMBAREESH BALIGAFundamental, Stock Ideas, Multibaggers & InsightsSubscribeCK NARAYANStock & Index F&O Trading Calls & Market AnalysisSubscribeSUDARSHAN SUKHANITechnical Call, Trading Calls & InsightsSubscribeT GNANASEKARCommodity Trading Calls & Market AnalysisSubscribeMECKLAI FINANCIALSCurrency Derivatives Trading Calls & InsightsSubscribeSHUBHAM AGARWALOptions Trading Advice and Market AnalysisSubscribeMARKET SMITH INDIAModel portfolios, Investment Ideas, Guru Screens and Much MoreSubscribeTraderSmithProprietary system driven Rule Based Trading callsSubscribeCurated markets data, exclusive trading recommendations, Independent equity analysis & actionable investment ideasSubscribeCurated markets data, exclusive trading recommendations, Independent equity analysis & actionable investment ideasExploreSTOCK REPORTS BY THOMSON REUTERSDetails stock report and investment recommendationSubscribePOWER YOUR TRADETechnical and Commodity CallsSubscribeINVESTMENT WATCHSet price, volume and news alertsSubscribeSTOCKAXIS EMERGING MARKET LEADERS15-20 High Growth Stocks primed for price jumpsSubscribeBe a PRO BusinessMarketsStocksEconomyCompaniesTrendsIPOOpinionEV Special\\n\\n>->MC_ENG_DESKTOP/MC_ENG_NEWS/MC_ENG_BUSINESS_AS/MC_ENG_ROS_NWS_BUS_AS_ATF_728\\n\\nBe a PRO\\n\\nPRO\\n\\n\\n\\nMarketsHOMEINDIAN INDICESSTOCK ACTIONAll StatsTop GainersTop LosersOnly BuyersOnly Sellers52 Week High52 Week LowPrice ShockersVolume ShockersMost Active StocksGLOBAL MARKETSUS MARKETSBIG SHARK PORTFOLIOSECONOMIC CALENDARMARKET ACTIONDashboardF&OFII & DII ActivityCorporate ActionEARNINGSCOMMODITYPRE MARKETRESEARCHAdviceBroker ResearchTechnicalsCURRENCYWEBINARINTERVIEW SERIESIPOOTHERSBondsCryptocurrencyTools\\n\\nNewsHOMEPAGEBUSINESSHomeEconomyCompaniesMutual FundsPersonal FinanceIPOStartupsReal EstateSMEGEOGRAPHYIndiaWorldMARKETSHomeStocksTechnical AnalysisEquity ResearchCommodityCurrencyGold RateSilver RateSPECIALTrendsLatest NewsOpinionTECHNOLOGYPersonal TechAutoFintechMEDIAPodcastPhotosInfographicsVideosOTHERSMC LearnPoliticsCricketEntertainmentTravelLifestyleHealth and FitnessEducationScienceBooksMC BuzzMC Features\\n\\nTech/Startups\\n\\nPortfolio\\n\\nWatchlist\\n\\nCommodities\\n\\nMutual FundsEXPLOREHomeFind FundTop Ranked FundsPerformance TrackerSIP Performance TrackerETF PerformanceNFOTop Performing CategoriesLearnTOOLSReturns CalculatorLumpsum SIP BalancerDelay Cost CalculatorSIP ReturnMF FORUMTRACKYour MF InvestmentMF PricesMC 30\\n\\nPersonal FinanceEXPLOREHomeInvestingInsuranceBankingFinancial PlanningPropertyToolsVideoAsk ExpertExplainerIncome Tax Filing GuideNPSFIXED DEPOSITFixed Deposit Interest CalculatorCorporate DepositsTAXIncome tax Filing GuideIncome Tax CalculatorEmergency Fund CalculatorLOANS & CREDIT CARDSHomeCar Loan CalculatorHome Loan CalculatorEducation Loan CalculatorCredit Card Debit Payoff CalculatorTOOLSProvident Fund CalculatorAssets Allocation PlanningDebt Reduction PlannerDebt Evaluation CalculatorCurrent Expense CalculatorMC 30MC HEALTH INSURANCE RATINGSGOLD PRICE TODAYCREDIT SCOREUpcoming Chat | Previous TranscriptsAll Schedule | Previous Transcript\\n\\nForumEXPLORE FORUMHomepageMembership RulesForum TopicsAsk the ExpertTop BoardersUSER PROFILEFORUM TOPICSLatest ThreadsStocksIndexGoldPersonal FinanceJust PostedMF FORUMPOLLSLatest PollsHistorical PollsMarket SentimentsSUPPORTFAQsCode of ConductFeedbackWrite to us\\n\\nVideosVIDEOSHomepageVideos on DemandMarkets with Santo & CJMorning TradeCommodities chat with Manisha GuptaLet`s Talk JobsThe TenantDrive ReportBajar GupshupBits To BillionsPODCASTHomepagePodcast on DemandThe Week on Dalal StreetMarket MinutesMC Special PodcastSimply SavePolicy TalksLIVE TVHindiGujarati\\n\\nInvest Now.investNW .sepInvsli a.pdg_btm{ padding-bottom: 46px; }\\n\\t\\t.header_desktop.header1024 .investNW .sepInvsli a.pdg_btm{padding-bottom: 0px;}\\n\\t\\t@media screen and (max-width:1279px) { \\n\\t\\t\\t.investNW .sepInvsli a.pdg_btm{ padding-bottom: 0px; } \\n\\t\\t}Invest in bonds onlinePowered By Invest in high-rated bonds from as low as Rs. 10,000Find & Invest in bonds issued by top corporates, PSU Banks, NBFCs, and much more. Invest as low as 10,000 and earn better returns than FDInvest NowExpert Trading GuidancePowered By Trading Advisories, Courses & Webinars by Top Verified Experts.Unlock Your Trading Potential: Trade like Experts with SEBI registered creators, Learn from Courses & Webinars by India\\'s Finest Finance Experts.Invest Now\\n\\nSubscriptionAMBAREESH BALIGAFundamental, Stock Ideas, Multibaggers & InsightsSubscribeCK NARAYANStock & Index F&O Trading Calls & Market AnalysisSubscribeSUDARSHAN SUKHANITechnical Call, Trading Calls & InsightsSubscribeT GNANASEKARCommodity Trading Calls & Market AnalysisSubscribeMECKLAI FINANCIALSCurrency Derivatives Trading Calls & InsightsSubscribeSHUBHAM AGARWALOptions Trading Advice and Market AnalysisSubscribeMARKET SMITH INDIAModel portfolios, Investment Ideas, Guru Screens and Much MoreSubscribeTraderSmithProprietary system driven Rule Based Trading callsSubscribeCurated markets data, exclusive trading recommendations, Independent equity analysis & actionable investment ideasSubscribeCurated markets data, exclusive trading recommendations, Independent equity analysis & actionable investment ideasExploreSTOCK REPORTS BY THOMSON REUTERSDetails stock report and investment recommendationSubscribePOWER YOUR TRADETechnical and Commodity CallsSubscribeINVESTMENT WATCHSet price, volume and news alertsSubscribeSTOCKAXIS EMERGING MARKET LEADERS15-20 High Growth Stocks primed for price jumpsSubscribe\\n\\nBe a PRO\\n\\nBusiness\\n\\nMarkets\\n\\nStocks\\n\\nEconomy\\n\\nCompanies\\n\\nTrends\\n\\nIPO\\n\\nOpinion\\n\\nEV Special\\n\\nLive :\\n\\nLIVE: FM at DRI Global Conference\\n\\nyou are here:\\n\\nHome\\n\\nNews\\n\\nBusiness\\n\\nTata Motors, Mahindra gain certificates for production-linked payouts\\n\\nLaunched in 2020, India\\'s $24 billion production-linked incentive programme covers 14 sectors, ranging from electronic products to autos, and is crucial to boosting jobs in manufacturing, an area where India has struggled.\\n\\nReuters\\n\\nAugust 30, 2023 / 11:04 AM IST\\n\\n\\n\\n\\n\\n\\n\\n\\n\\n\\n\\n\\n\\n\\n\\n\\n\\n\\n\\n\\n\\n\\n\\n\\n\\nTata Motors, Mahindra gain certificates for production-linked payouts\\n\\nTata Motors\\n\\nM&M\\n\\nWatchlist\\n\\nPortfolio\\n\\nMessage\\n\\nSet Alert\\n\\nNSE\\n\\nlive\\n\\nbselive\\n\\nnselive\\n\\n30 Oct, 2023 10:56\\n\\n627.55\\n\\n13.50 (-2.11%)\\n\\nVolume \\n\\n6014263\\n\\nTodays L/H \\n\\n621.85\\n\\n643.80\\n\\nMore\\n\\nIndian automakers Tata Motors and Mahindra and Mahindra have received domestic value certificates, a metric key to qualifying for payouts under the nation\\'s production-linked incentive\\xa0scheme, the government said on Tuesday.\\n\\nLaunched in 2020, India\\'s $24 billion production-linked incentive programme covers 14 sectors, ranging from electronic products to autos, and is crucial to boosting jobs in manufacturing, an area where India has struggled.\\n\\nReuters reported this month that India\\'s top bureaucrat reviewed the scheme, amid a push from industry for faster payouts.\\n\\nThe Indian government said on Tuesday that applicants under the scheme for autos had invested 107.55 billion rupees ($1.30 billion) as of the end of June.\\n\\nApart from Tata Motors and Mahindra, four other companies have applied for certification which is crucial for receiving the incentives, the government said, without naming the companies.\\n\\nThe government also said it expects 23 more firms to apply for the certification by the end of September.\\n\\nReuters\\n\\nTags:\\n\\n#Business\\n\\n#Companies\\n\\nfirst published: Aug 30, 2023 11:04 am\\n\\nbusiness news,\\n\\nSensex, and\\n\\nNifty updates. Obtain\\n\\nPersonal Finance insights, tax queries, and expert opinions on\\n\\nMoneycontrol or download the\\n\\nMoneycontrol App to stay updated!\\n\\nForum\\n\\nFacebook\\n\\nTwitter\\n\\nInstagram\\n\\nLinkedin\\n\\nRSS\\n\\nPortfolio\\n\\nMarkets\\n\\nWatchlist\\n\\nLive TV Show\\n\\nCurrencies\\n\\nCredit Score\\n\\nCommodities\\n\\nFixed Income\\n\\nPersonal Finance\\n\\nMutual Fund\\n\\nPre-Market\\n\\nIPO\\n\\nGlobal Market\\n\\nBudget 2023\\n\\nGold Rate\\n\\nBSE Sensex\\n\\nForum\\n\\nMC 30\\n\\nNews\\n\\nBusiness\\n\\nMarkets\\n\\nStocks\\n\\nEconomy\\n\\nMutual Funds\\n\\nPersonal Finance\\n\\nIPO News\\n\\nStartups\\n\\nStocks:\\n\\nA |\\n\\nB |\\n\\nC |\\n\\nD |\\n\\nE |\\n\\nF |\\n\\nG |\\n\\nH |\\n\\nI |\\n\\nJ |\\n\\nK |\\n\\nL |\\n\\nM |\\n\\nN |\\n\\nO |\\n\\nP |\\n\\nQ |\\n\\nR |\\n\\nS |\\n\\nT |\\n\\nU |\\n\\nV |\\n\\nW |\\n\\nX |\\n\\nY |\\n\\nZ |\\n\\nOthers\\n\\nMutual Funds:\\n\\nA \\n             |\\n\\nB \\n             |\\n\\nC \\n             |\\n\\nD \\n             |\\n\\nE \\n             |\\n\\nF \\n             |\\n\\nG \\n             |\\n\\nH \\n             |\\n\\nI \\n             |\\n\\nJ \\n             |\\n\\nK \\n             |\\n\\nL \\n             |\\n\\nM \\n             |\\n\\nN \\n             |\\n\\nO \\n             |\\n\\nP \\n             |\\n\\nQ \\n             |\\n\\nR \\n             |\\n\\nS \\n             |\\n\\nT \\n             |\\n\\nU \\n             |\\n\\nV \\n             |\\n\\nW \\n             |\\n\\nX \\n             |\\n\\nY \\n             |\\n\\nVisit the App Store to see all our apps:\\n\\nDownload from Google Play\\n\\nDownload from APP Store\\n\\nDownload from Windows Phone\\n\\nTools\\n\\nRetirement Planning\\n\\nEMI Calculator\\n\\nSIP Calculator\\n\\nSIP Planner\\n\\nUseful Links\\n\\nCrypto News\\n\\nBank Holidays in India\\n\\nGold Rate Today\\n\\nSilver Rate Today\\n\\nTrending News\\n\\nStartups\\n\\nNational News\\n\\nMC Videos\\n\\nMC You Tube\\n\\nHouse Purchase Index\\n\\nBest Portfolio Manager\\n\\nSmall Savings Schemes\\n\\nBonds\\n\\nTopperLearning\\n\\nClear Study Doubts\\n\\nEducation Franchisee Opportunity\\n\\nSpecials\\n\\nMaster Your Money\\n\\nGame Changers\\n\\nInvestment Watch\\n\\nPowerYourTrade\\n\\nMoneyBhai\\n\\nFocus\\n\\nSME Step Up\\n\\nNetwork 18 Sites\\n\\nNews18\\n\\nFirstpost\\n\\nCNBC TV18\\n\\nNews18 Hindi\\n\\nCricketnext\\n\\nOverdrive\\n\\nTopper Learning\\n\\nAbout us |\\n\\nContact Us |\\n\\nAdvertise with Us |\\n\\nSupport |\\n\\nDisclaimer |\\n\\nPrivacy Policy |\\n\\nCookie Policy |\\n\\nTerms & Conditions |\\n\\nCareers |\\n\\nFinancial Terms (Glossary) |\\n\\nFAQs |\\n\\nSitemap |\\n\\nRSS Feed\\n\\nCopyright © e-Eighteen.com Ltd. All rights reserved. Reproduction of news articles, photos, videos or any other content in whole or in part in any form \\n        or medium without express writtern permission of moneycontrol.com is prohibited.\\n\\nYou got 90 Day’s Trial of\\n\\nGrab it Now\\n\\nAd-Free Experience\\n\\nTop Articles from Financial Times\\n\\nActionable Insights\\n\\nMC Research\\n\\nEconomic Calendar\\n\\n& Many More\\n\\nYou are already a Moneycontrol Pro user.\\n\\nCheck your Credit Score Now!\\n\\nAccess your Detailed Credit Report - absolutely free\\n\\nClick Here\\n\\nFaizan Javed', metadata={'source': 'https://www.moneycontrol.com/news/business/tata-motors-mahindra-gain-certificates-for-production-linked-payouts-11281691.html'})"
      ]
     },
     "execution_count": 12,
     "metadata": {},
     "output_type": "execute_result"
    }
   ],
   "source": [
    "data[0]"
   ]
  },
  {
   "cell_type": "markdown",
   "metadata": {},
   "source": [
    "![image 1](./images/image_1.png)"
   ]
  },
  {
   "cell_type": "code",
   "execution_count": 21,
   "metadata": {},
   "outputs": [],
   "source": [
    "#text splitting\n",
    "#any llm has token size limit\n",
    "\n",
    "\n",
    "text=\"\"\"Cosmetics are constituted mixtures of chemical compounds derived from either natural sources, or synthetically created ones. Cosmetics have various purposes. Those designed for personal care and skin care can be used to cleanse or protect the body or skin. Cosmetics designed to enhance or alter one's appearance (makeup) can be used to conceal blemishes, enhance one's natural features (such as the eyebrows and eyelashes), add color to a person's face, or change the appearance of the face entirely to resemble a different person, creature or object. Due to the harsh ingredients in makeup products, individuals with acne-prone skin are more likely to suffer from breakouts. Cosmetics can also be designed to add fragrance to the body.The word cosmetics is derived from the Greek κοσμητικὴ τέχνη (kosmetikē tekhnē), meaning \"technique of dress and ornament\", from κοσμητικός (kosmētikos), \"skilled in ordering or arranging\" and that from κόσμος (kosmos), meaning \"order\" and \"ornament\".Cosmetics are constituted from a mixture of chemical compounds derived from either natural sources, or synthetically created ones Though the legal definition of cosmetics in most countries is broader, in some Western countries, cosmetics are commonly taken to mean only makeup products, such as lipstick, mascara, eye shadow, foundation, blush, highlighter, bronzer, and several other product types.\n",
    "\n",
    "In the United States, the Food and Drug Administration (FDA), which regulates cosmetics,[5] defines cosmetics as products \"intended to be applied to the human body for cleansing, beautifying, promoting attractiveness, or altering the appearance without affecting the body's structure or functions\". This broad definition includes any material intended for use as an ingredient of a cosmetic product, with the FDA specifically excluding pure soap from this category Cosmetics designed for skin care can be used to cleanse, exfoliate and protect the skin, as well as replenishing it, by the use of cleansers, toners, serums, moisturizers, eye creams and balms. Cosmetics designed for more general personal care, such as shampoo, soap, and body wash, can be used to cleanse the body.\n",
    "\n",
    "Cosmetics designed to enhance one's appearance (makeup) can be used to conceal blemishes, enhance one's natural features (such as the eyebrows and eyelashes), add color to a person's face and—in the case of more extreme forms of makeup used for performances, fashion shows and people in costume—can be used to change the appearance of the face entirely to resemble a different person, creature or object. Techniques for changing appearance include contouring, which aims to give shape to an area of the face.\n",
    "\n",
    "Cosmetics can also be designed to add fragrance to the body. Depending on the type and form of cosmetic used, a wide range of organic compounds are used in cosmetics as preservatives, including parabens, formaldehyde releasers, isothiazolinones, phenoxyethanol, and alcohols. Some cosmetics companies have made pseudo-scientific claims about their products which are misleading or unsupported by scientific evidence.\"\"\""
   ]
  },
  {
   "cell_type": "code",
   "execution_count": 17,
   "metadata": {},
   "outputs": [
    {
     "name": "stdout",
     "output_type": "stream",
     "text": [
      "Cosmetics are constituted mixtures of chemical compounds derived from either natural sources, or synthetically created ones. Cosmetics have various purposes. Those designed for personal care and skin \n"
     ]
    }
   ],
   "source": [
    "x=slice(0,200)\n",
    "print(text[x])"
   ]
  },
  {
   "cell_type": "code",
   "execution_count": 18,
   "metadata": {},
   "outputs": [
    {
     "data": {
      "text/plain": [
       "'Cosmetics are constituted mixtures of chemical compounds derived from either natural sources, or synthetically created ones. Cosmetics have various purposes. Those designed for personal care and skin '"
      ]
     },
     "execution_count": 18,
     "metadata": {},
     "output_type": "execute_result"
    }
   ],
   "source": [
    "text[:200]"
   ]
  },
  {
   "cell_type": "code",
   "execution_count": 22,
   "metadata": {},
   "outputs": [
    {
     "name": "stderr",
     "output_type": "stream",
     "text": [
      "Created a chunk of size 1387, which is longer than the specified 200\n",
      "Created a chunk of size 780, which is longer than the specified 200\n",
      "Created a chunk of size 508, which is longer than the specified 200\n"
     ]
    },
    {
     "data": {
      "text/plain": [
       "4"
      ]
     },
     "execution_count": 22,
     "metadata": {},
     "output_type": "execute_result"
    }
   ],
   "source": [
    "from langchain.text_splitter import CharacterTextSplitter\n",
    "#in this character text splitter will be taking which u need to split as an argument\n",
    "#why we dont use this is because the the it does not correctly recognises the seperators\n",
    "\n",
    "spitter=CharacterTextSplitter(\n",
    "    separator=\"\\n\",\n",
    "    chunk_size=200,\n",
    "    chunk_overlap=0\n",
    ")\n",
    "chunks=spitter.split_text(text)\n",
    "len(chunks)"
   ]
  },
  {
   "cell_type": "code",
   "execution_count": 23,
   "metadata": {},
   "outputs": [
    {
     "name": "stdout",
     "output_type": "stream",
     "text": [
      "1387\n",
      "780\n",
      "508\n",
      "416\n"
     ]
    }
   ],
   "source": [
    "for chunk in chunks:\n",
    "    print(len(chunk))"
   ]
  },
  {
   "cell_type": "code",
   "execution_count": 27,
   "metadata": {},
   "outputs": [
    {
     "data": {
      "text/plain": [
       "18"
      ]
     },
     "execution_count": 27,
     "metadata": {},
     "output_type": "execute_result"
    }
   ],
   "source": [
    "from langchain.text_splitter import RecursiveCharacterTextSplitter\n",
    "\n",
    "r_splitter=RecursiveCharacterTextSplitter(\n",
    "    separators=[\"\\n\\n\",\"\\n\",\" \"],\n",
    "    chunk_size=200,\n",
    "    chunk_overlap=0\n",
    ")\n",
    "\n",
    "chunks=r_splitter.split_text(text)\n",
    "len(chunks)\n",
    "\n",
    "\n",
    "\n",
    "                                                      "
   ]
  },
  {
   "cell_type": "code",
   "execution_count": 29,
   "metadata": {},
   "outputs": [
    {
     "name": "stdout",
     "output_type": "stream",
     "text": [
      "199\n",
      "199\n",
      "191\n",
      "199\n",
      "184\n",
      "199\n",
      "195\n",
      "14\n",
      "191\n",
      "198\n",
      "197\n",
      "191\n",
      "198\n",
      "197\n",
      "111\n",
      "193\n",
      "198\n",
      "23\n"
     ]
    }
   ],
   "source": [
    "for chunk in chunks:\n",
    "    print(len(chunk))"
   ]
  },
  {
   "cell_type": "markdown",
   "metadata": {},
   "source": [
    "#vector databases  - FAISS(Facebook AI Similarity Search)\n",
    "\n",
    "![image_2](./images/image_2.png)"
   ]
  },
  {
   "cell_type": "code",
   "execution_count": 36,
   "metadata": {},
   "outputs": [],
   "source": [
    "import pandas as pd\n",
    "pd.set_option('display.max_colwidth',100)"
   ]
  },
  {
   "cell_type": "code",
   "execution_count": 37,
   "metadata": {},
   "outputs": [
    {
     "data": {
      "text/plain": [
       "(8, 2)"
      ]
     },
     "execution_count": 37,
     "metadata": {},
     "output_type": "execute_result"
    }
   ],
   "source": [
    "df=pd.read_csv(\"sample_text.csv\")\n",
    "df.shape"
   ]
  },
  {
   "cell_type": "code",
   "execution_count": 38,
   "metadata": {},
   "outputs": [
    {
     "data": {
      "text/html": [
       "<div>\n",
       "<style scoped>\n",
       "    .dataframe tbody tr th:only-of-type {\n",
       "        vertical-align: middle;\n",
       "    }\n",
       "\n",
       "    .dataframe tbody tr th {\n",
       "        vertical-align: top;\n",
       "    }\n",
       "\n",
       "    .dataframe thead th {\n",
       "        text-align: right;\n",
       "    }\n",
       "</style>\n",
       "<table border=\"1\" class=\"dataframe\">\n",
       "  <thead>\n",
       "    <tr style=\"text-align: right;\">\n",
       "      <th></th>\n",
       "      <th>text</th>\n",
       "      <th>category</th>\n",
       "    </tr>\n",
       "  </thead>\n",
       "  <tbody>\n",
       "    <tr>\n",
       "      <th>0</th>\n",
       "      <td>Meditation and yoga can improve mental health</td>\n",
       "      <td>Health</td>\n",
       "    </tr>\n",
       "    <tr>\n",
       "      <th>1</th>\n",
       "      <td>Fruits, whole grains and vegetables helps control blood pressure</td>\n",
       "      <td>Health</td>\n",
       "    </tr>\n",
       "    <tr>\n",
       "      <th>2</th>\n",
       "      <td>These are the latest fashion trends for this week</td>\n",
       "      <td>Fashion</td>\n",
       "    </tr>\n",
       "    <tr>\n",
       "      <th>3</th>\n",
       "      <td>Vibrant color jeans for male are becoming a trend</td>\n",
       "      <td>Fashion</td>\n",
       "    </tr>\n",
       "    <tr>\n",
       "      <th>4</th>\n",
       "      <td>The concert starts at 7 PM tonight</td>\n",
       "      <td>Event</td>\n",
       "    </tr>\n",
       "    <tr>\n",
       "      <th>5</th>\n",
       "      <td>Navaratri dandiya program at Expo center in Mumbai this october</td>\n",
       "      <td>Event</td>\n",
       "    </tr>\n",
       "    <tr>\n",
       "      <th>6</th>\n",
       "      <td>Exciting vacation destinations for your next trip</td>\n",
       "      <td>Travel</td>\n",
       "    </tr>\n",
       "    <tr>\n",
       "      <th>7</th>\n",
       "      <td>Maldives and Srilanka are gaining popularity in terms of low budget vacation places</td>\n",
       "      <td>Travel</td>\n",
       "    </tr>\n",
       "  </tbody>\n",
       "</table>\n",
       "</div>"
      ],
      "text/plain": [
       "                                                                                  text  \\\n",
       "0                                        Meditation and yoga can improve mental health   \n",
       "1                     Fruits, whole grains and vegetables helps control blood pressure   \n",
       "2                                    These are the latest fashion trends for this week   \n",
       "3                                    Vibrant color jeans for male are becoming a trend   \n",
       "4                                                   The concert starts at 7 PM tonight   \n",
       "5                      Navaratri dandiya program at Expo center in Mumbai this october   \n",
       "6                                    Exciting vacation destinations for your next trip   \n",
       "7  Maldives and Srilanka are gaining popularity in terms of low budget vacation places   \n",
       "\n",
       "  category  \n",
       "0   Health  \n",
       "1   Health  \n",
       "2  Fashion  \n",
       "3  Fashion  \n",
       "4    Event  \n",
       "5    Event  \n",
       "6   Travel  \n",
       "7   Travel  "
      ]
     },
     "execution_count": 38,
     "metadata": {},
     "output_type": "execute_result"
    }
   ],
   "source": [
    "df"
   ]
  },
  {
   "cell_type": "code",
   "execution_count": 41,
   "metadata": {},
   "outputs": [
    {
     "data": {
      "application/vnd.jupyter.widget-view+json": {
       "model_id": "3e00eb0cb3f44686b2c73d2a0a75fc8f",
       "version_major": 2,
       "version_minor": 0
      },
      "text/plain": [
       "Downloading pytorch_model.bin:   0%|          | 0.00/438M [00:00<?, ?B/s]"
      ]
     },
     "metadata": {},
     "output_type": "display_data"
    },
    {
     "data": {
      "application/vnd.jupyter.widget-view+json": {
       "model_id": "ca2f43a448a74ca7aa686d062f5e92d3",
       "version_major": 2,
       "version_minor": 0
      },
      "text/plain": [
       "Downloading (…)nce_bert_config.json:   0%|          | 0.00/53.0 [00:00<?, ?B/s]"
      ]
     },
     "metadata": {},
     "output_type": "display_data"
    },
    {
     "data": {
      "application/vnd.jupyter.widget-view+json": {
       "model_id": "d537dbd2062443ac8bdd16e601b52735",
       "version_major": 2,
       "version_minor": 0
      },
      "text/plain": [
       "Downloading (…)cial_tokens_map.json:   0%|          | 0.00/239 [00:00<?, ?B/s]"
      ]
     },
     "metadata": {},
     "output_type": "display_data"
    },
    {
     "data": {
      "application/vnd.jupyter.widget-view+json": {
       "model_id": "775461cb2bd640af96e0288e46ac0f25",
       "version_major": 2,
       "version_minor": 0
      },
      "text/plain": [
       "Downloading (…)a8e1d/tokenizer.json:   0%|          | 0.00/466k [00:00<?, ?B/s]"
      ]
     },
     "metadata": {},
     "output_type": "display_data"
    },
    {
     "data": {
      "application/vnd.jupyter.widget-view+json": {
       "model_id": "ef61f56dd856481ba30c94e5ffe0e6f2",
       "version_major": 2,
       "version_minor": 0
      },
      "text/plain": [
       "Downloading (…)okenizer_config.json:   0%|          | 0.00/363 [00:00<?, ?B/s]"
      ]
     },
     "metadata": {},
     "output_type": "display_data"
    },
    {
     "data": {
      "application/vnd.jupyter.widget-view+json": {
       "model_id": "6663d37a4e5648e1957feb32612c1f14",
       "version_major": 2,
       "version_minor": 0
      },
      "text/plain": [
       "Downloading (…)8e1d/train_script.py:   0%|          | 0.00/13.1k [00:00<?, ?B/s]"
      ]
     },
     "metadata": {},
     "output_type": "display_data"
    },
    {
     "data": {
      "application/vnd.jupyter.widget-view+json": {
       "model_id": "7c2daceb130a48f7931016339a5f1b67",
       "version_major": 2,
       "version_minor": 0
      },
      "text/plain": [
       "Downloading (…)b20bca8e1d/vocab.txt:   0%|          | 0.00/232k [00:00<?, ?B/s]"
      ]
     },
     "metadata": {},
     "output_type": "display_data"
    },
    {
     "data": {
      "application/vnd.jupyter.widget-view+json": {
       "model_id": "7ac850091a17480f884e2bcd0f01953b",
       "version_major": 2,
       "version_minor": 0
      },
      "text/plain": [
       "Downloading (…)bca8e1d/modules.json:   0%|          | 0.00/349 [00:00<?, ?B/s]"
      ]
     },
     "metadata": {},
     "output_type": "display_data"
    },
    {
     "data": {
      "text/plain": [
       "(8, 768)"
      ]
     },
     "execution_count": 41,
     "metadata": {},
     "output_type": "execute_result"
    }
   ],
   "source": [
    "from sentence_transformers import SentenceTransformer\n",
    "\n",
    "encoder=SentenceTransformer(\"all-mpnet-base-v2\")\n",
    "vectors=encoder.encode(df.text)\n",
    "vectors.shape"
   ]
  },
  {
   "cell_type": "code",
   "execution_count": 42,
   "metadata": {},
   "outputs": [
    {
     "data": {
      "text/plain": [
       "768"
      ]
     },
     "execution_count": 42,
     "metadata": {},
     "output_type": "execute_result"
    }
   ],
   "source": [
    "vectors.shape[1]"
   ]
  },
  {
   "cell_type": "code",
   "execution_count": 43,
   "metadata": {},
   "outputs": [
    {
     "data": {
      "text/plain": [
       "768"
      ]
     },
     "execution_count": 43,
     "metadata": {},
     "output_type": "execute_result"
    }
   ],
   "source": [
    "dim=vectors.shape[1]\n",
    "dim\n"
   ]
  },
  {
   "cell_type": "code",
   "execution_count": 45,
   "metadata": {},
   "outputs": [],
   "source": [
    "import faiss# this index is the euclidean distance \n",
    "index=faiss.IndexFlatL2(dim)\n",
    "index.add(vectors)"
   ]
  },
  {
   "cell_type": "code",
   "execution_count": 61,
   "metadata": {},
   "outputs": [
    {
     "data": {
      "text/plain": [
       "(1, 768)"
      ]
     },
     "execution_count": 61,
     "metadata": {},
     "output_type": "execute_result"
    }
   ],
   "source": [
    "search_query=\"i want to travel to india\"\n",
    "vec=encoder.encode([search_query])\n",
    "vec.shape"
   ]
  },
  {
   "cell_type": "code",
   "execution_count": 62,
   "metadata": {},
   "outputs": [],
   "source": [
    "distance,I=index.search(vec,k=2)"
   ]
  },
  {
   "cell_type": "code",
   "execution_count": 63,
   "metadata": {},
   "outputs": [
    {
     "data": {
      "text/plain": [
       "array([[5, 7]], dtype=int64)"
      ]
     },
     "execution_count": 63,
     "metadata": {},
     "output_type": "execute_result"
    }
   ],
   "source": [
    "I"
   ]
  },
  {
   "cell_type": "code",
   "execution_count": 52,
   "metadata": {},
   "outputs": [
    {
     "data": {
      "text/plain": [
       "(1, 768)"
      ]
     },
     "execution_count": 52,
     "metadata": {},
     "output_type": "execute_result"
    }
   ],
   "source": [
    "import numpy as np\n",
    "svec=np.array(vec).reshape(1,-1)\n",
    "svec.shape"
   ]
  },
  {
   "cell_type": "code",
   "execution_count": 64,
   "metadata": {},
   "outputs": [
    {
     "data": {
      "text/html": [
       "<div>\n",
       "<style scoped>\n",
       "    .dataframe tbody tr th:only-of-type {\n",
       "        vertical-align: middle;\n",
       "    }\n",
       "\n",
       "    .dataframe tbody tr th {\n",
       "        vertical-align: top;\n",
       "    }\n",
       "\n",
       "    .dataframe thead th {\n",
       "        text-align: right;\n",
       "    }\n",
       "</style>\n",
       "<table border=\"1\" class=\"dataframe\">\n",
       "  <thead>\n",
       "    <tr style=\"text-align: right;\">\n",
       "      <th></th>\n",
       "      <th>text</th>\n",
       "      <th>category</th>\n",
       "    </tr>\n",
       "  </thead>\n",
       "  <tbody>\n",
       "    <tr>\n",
       "      <th>5</th>\n",
       "      <td>Navaratri dandiya program at Expo center in Mumbai this october</td>\n",
       "      <td>Event</td>\n",
       "    </tr>\n",
       "    <tr>\n",
       "      <th>7</th>\n",
       "      <td>Maldives and Srilanka are gaining popularity in terms of low budget vacation places</td>\n",
       "      <td>Travel</td>\n",
       "    </tr>\n",
       "  </tbody>\n",
       "</table>\n",
       "</div>"
      ],
      "text/plain": [
       "                                                                                  text  \\\n",
       "5                      Navaratri dandiya program at Expo center in Mumbai this october   \n",
       "7  Maldives and Srilanka are gaining popularity in terms of low budget vacation places   \n",
       "\n",
       "  category  \n",
       "5    Event  \n",
       "7   Travel  "
      ]
     },
     "execution_count": 64,
     "metadata": {},
     "output_type": "execute_result"
    }
   ],
   "source": [
    "df.loc[I[0]]"
   ]
  },
  {
   "cell_type": "code",
   "execution_count": null,
   "metadata": {},
   "outputs": [],
   "source": [
    "#use map reduce method to reduce the chunk size\n",
    "\n"
   ]
  },
  {
   "cell_type": "code",
   "execution_count": 66,
   "metadata": {},
   "outputs": [],
   "source": [
    "import os\n",
    "os.environ['OPENAI_API_KEY']='your open api key'"
   ]
  },
  {
   "cell_type": "code",
   "execution_count": null,
   "metadata": {},
   "outputs": [],
   "source": [
    "#initialize llm with required paramaters\n",
    "#temperature controls the randomness of the models'soutput\n",
    "#value closer to 1->more randomness\n",
    "#value closer to 0->less randomness\n",
    "#max_tokens->maximum number of tokens to generate as output \n",
    "llm=OpenAI(temperature=0.9,max_tokens=500)"
   ]
  },
  {
   "cell_type": "code",
   "execution_count": null,
   "metadata": {},
   "outputs": [],
   "source": []
  }
 ],
 "metadata": {
  "kernelspec": {
   "display_name": "base",
   "language": "python",
   "name": "python3"
  },
  "language_info": {
   "codemirror_mode": {
    "name": "ipython",
    "version": 3
   },
   "file_extension": ".py",
   "mimetype": "text/x-python",
   "name": "python",
   "nbconvert_exporter": "python",
   "pygments_lexer": "ipython3",
   "version": "3.11.4"
  }
 },
 "nbformat": 4,
 "nbformat_minor": 2
}
